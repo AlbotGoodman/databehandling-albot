{
 "cells": [
  {
   "cell_type": "markdown",
   "metadata": {},
   "source": [
    "\n",
    "<a href=\"https://colab.research.google.com/github/kokchun/Databehandling-AI22/blob/main/Exercises/E02_merging.ipynb\" target=\"_parent\"><img align=\"left\" src=\"https://colab.research.google.com/assets/colab-badge.svg\" alt=\"Open In Colab\"/></a> &nbsp; to see hints and answers."
   ]
  },
  {
   "cell_type": "markdown",
   "metadata": {},
   "source": [
    "---\n",
    "# Merging exercises\n",
    "\n",
    "---\n",
    "These are introductory exercises in Pandas with focus in **syntax, indexing, data selection, missing data, aggregations, visualizations**, **data cleaning**, **merging**, **concatenation**, **joining**, **parse html tables** .\n",
    "\n",
    "<p class = \"alert alert-info\" role=\"alert\"><b>Note</b> all datasets used in this exercise can be found under Data folder of the course Github repo</p>\n",
    "\n",
    "<p class = \"alert alert-info\" role=\"alert\"><b>Note</b> that there are usually many ways to achieve same results using operations in pandas. Feel free to investigate several ways. </p>\n",
    "\n",
    "<p class = \"alert alert-info\" role=\"alert\"><b>Note</b> that in cases when you start to repeat code, try not to. Create functions to reuse code instead. </p>\n",
    "\n",
    "<p class = \"alert alert-info\" role=\"alert\"><b>Remember</b> to use <b>descriptive variable, function, index </b> and <b> column names</b> in order to get readable code </p>\n",
    "\n",
    "<p class = \"alert alert-info\" role=\"alert\"><b>Remember</b> to format your input questions in a pedagogical way to guide the user\n",
    "\n",
    "The number of stars (\\*), (\\*\\*), (\\*\\*\\*) denotes the difficulty level of the task\n",
    "\n",
    "---"
   ]
  },
  {
   "cell_type": "markdown",
   "metadata": {},
   "source": [
    "## 1. Swedish demographic data (*)\n",
    "\n",
    "Go to Swedish-language wikipedia page [Sveriges demografi](https://sv.wikipedia.org/wiki/Sveriges_demografi). \n",
    "\n",
    "&nbsp; a) Read in the table under \"Befolkningsstatistik sedan 1900\" into a DataFrame\n",
    "\n",
    "&nbsp; b) Choose to do some EDA (exploratory data analysis) on this dataset. And draw some relevant graphs.\n",
    "\n",
    "&nbsp; c) Now we want to go backwards in time (before 1900) to see how population has changed in Sweden. Read in the table under history and keep the data of \"Folkmängd\" from 1570-1865. \n",
    "\n",
    "| År   | Folkmängd |\n",
    "| ---- | --------- | \n",
    "| 1570 | 900000    |     \n",
    "| 1650 | 1225000   |\n",
    "| 1700 | 1485000   |\n",
    "| 1720 | 1350000   |\n",
    "| 1755 | 1878000   |\n",
    "| 1815 | 2465000   |\n",
    "| 1865 | 4099000   |\n",
    "\n",
    "\n",
    "&nbsp; d) Now concatenate this with the table from 1900 so that you have population data from 1570 to 2020. Note that you may need to clean the data in order for it to fit properly. Also you may be able to do this in several ways. \n",
    "\n",
    "&nbsp; e) Draw a graph of population data from 1570-2020.\n",
    "\n",
    "&nbsp; f) Try to see if you can plot something from this data that might show the effects of the Covid-19 pandemic. It\"s good to zoom in the data, i.e. plot a shorter time frame instead of all time frames. \n",
    "\n",
    "&nbsp; g) Try to see if you can plot something from this data that might capture the effects imigration and emigration waves.\n",
    "\n",
    "&nbsp; h) Feel free to find other interesting facts about the Swedish demographics based on this data. \n",
    "\n",
    "<details>\n",
    "<summary>Hint</summary>\n",
    "\n",
    "Useful methods:\n",
    "- append()\n",
    "- join()\n",
    "- concat()\n",
    "- merge()\n",
    "\n",
    "</details>\n",
    "\n",
    "<br/>\n",
    "\n",
    "<details>\n",
    "\n",
    "<summary>Answer</summary>\n",
    "\n",
    "![Sweden population data 1952-2020](../assets/sverige_befolkning_tid.png)\n",
    "\n",
    "</details>"
   ]
  },
  {
   "cell_type": "code",
   "execution_count": 114,
   "metadata": {},
   "outputs": [],
   "source": [
    "# 1.a)\n",
    "\n",
    "import pandas as pd\n",
    "pd.options.mode.copy_on_write = True        # recommended by pandas due to copy-on-write becoming standard in pandas 3\n",
    "import numpy as np\n",
    "from IPython.display import display\n",
    "import plotly_express as px \n",
    "import matplotlib.pyplot as plt\n",
    "import seaborn as sns\n",
    "\n",
    "def scrape_table(url, table_number):\n",
    "    df = pd.read_html(url)\n",
    "    table = df[table_number]\n",
    "    path = \"../Data/\" + url.split(\"/\")[-1] + f\"_{str(table_number)}.csv\"\n",
    "    table.to_csv(path)\n",
    "    return path\n",
    "\n",
    "\n",
    "def read_table(path):\n",
    "    table = pd.read_csv(path)\n",
    "    return table\n",
    "\n",
    "# loc = scrape_table(\"https://sv.wikipedia.org/wiki/Sveriges_demografi\", 6) # sparad som CSV\n",
    "swe_raw = read_table(\"/home/albot/coding/repos/databehandling-albot/Data/Sveriges_demografi_6.csv\") # tidigare arg=loc\n",
    "swe = swe_raw.rename(columns={\"Unnamed: 0\": \"År\", \n",
    "                              \"Medel- folkmängd\": \"Folkmängd\",\n",
    "                              \"Naturlig befolknings- förändring\": \"Naturlig_befolkningsförändring\",\n",
    "                              \"Nativitet (per 1000)\": \"Nativitet_per_1000\", \n",
    "                              \"Dödstal (per 1000)\": \"Dödstal_per_1000\",\n",
    "                              \"Naturlig befolknings- förändring (per 1000)\": \"Naturlig_befolkningsförändring_per_1000\",\n",
    "                              \"Total fertilitet\": \"Total_fertilitet\"})\n",
    "swe = swe.drop(\"Unnamed: 0.1\", axis=1).set_index(\"År\")\n",
    "swe = swe.dropna(how=\"any\")\n",
    "for col in swe.columns[:4]:\n",
    "    swe[col] = swe[col].astype(str).str.strip().str.replace(\",\", \".\").str.replace(\" \", \"\").astype(float)\n",
    "# display(swe)"
   ]
  },
  {
   "cell_type": "code",
   "execution_count": 115,
   "metadata": {},
   "outputs": [],
   "source": [
    "# 1.b)\n",
    "\n",
    "def plot_pop_time(df):\n",
    "    fig = px.line(df, x=df.index, y=\"Folkmängd\", title=\"Sveriges befolkning över tid\")\n",
    "    fig.show()\n",
    "\n",
    "\n",
    "def plot_born_dead():\n",
    "    swe_born_dead = swe[[\"Födda\", \"Döda\", \"Naturlig_befolkningsförändring\"]]\n",
    "    swe_born_dead = swe_born_dead.reset_index()\n",
    "    swe_bd_melted = swe_born_dead.melt(id_vars=\"År\", value_vars=[\"Födda\", \"Döda\", \"Naturlig_befolkningsförändring\"], \n",
    "                                    var_name=\"Category\", value_name=\"Count\")\n",
    "    fig = px.line(swe_bd_melted, x=\"År\", y=\"Count\", color=\"Category\", \n",
    "                  title=\"Born and Dead Over Time\")\n",
    "    fig.show()\n",
    "\n",
    "\n",
    "def plot_per_1000():\n",
    "    swe_per_1000 = swe[[\"Nativitet_per_1000\", \"Dödstal_per_1000\", \"Naturlig_befolkningsförändring_per_1000\", \"Total_fertilitet\"]]\n",
    "    swe_per_1000 = swe_per_1000.reset_index()\n",
    "    swe_p1_melted = swe_per_1000.melt(id_vars=\"År\", value_vars=[\"Nativitet_per_1000\", \"Dödstal_per_1000\", \"Naturlig_befolkningsförändring_per_1000\", \"Total_fertilitet\"], \n",
    "                                    var_name=\"Category\", value_name=\"Count\")\n",
    "    fig = px.line(swe_p1_melted, x=\"År\", y=\"Count\", color=\"Category\", \n",
    "                  title=\"Population per 1000\")\n",
    "    fig.show()\n",
    "\n",
    "\n",
    "# plot_pop_time()\n",
    "# plot_born_dead()\n",
    "# plot_per_1000()"
   ]
  },
  {
   "cell_type": "code",
   "execution_count": 116,
   "metadata": {},
   "outputs": [],
   "source": [
    "# 1.c)\n",
    "\n",
    "# loc = scrape_table(\"https://sv.wikipedia.org/wiki/Sveriges_demografi\", 1) # sparad som CSV\n",
    "swe_his_raw = read_table(\"/home/albot/coding/repos/databehandling-albot/Data/Sveriges_demografi_1.csv\") # tidigare arg=loc\n",
    "swe_his = swe_his_raw.rename(columns={\"Vid utgången av år\": \"År\",\n",
    "                              \"Folkmängd\": \"Folkmängd\", \n",
    "                              \"Årlig tillväxt\": \"Årlig_tillväxt_totalt\",\n",
    "                              \"Årlig tillväxt.1\": \"Årlig_tillväxt_promille\"})\n",
    "swe_his = swe_his.drop([\"Unnamed: 0\", \"Årlig_tillväxt_totalt\", \"Årlig_tillväxt_promille\"], axis=1).set_index(\"År\")\n",
    "swe_his = swe_his.iloc[1:-4, :]\n",
    "swe_his[\"Folkmängd\"] = swe_his[\"Folkmängd\"].astype(str).str.strip().str.replace(\"\\xa0\", \"\").str.replace(\" \", \"\").astype(float)  # replacing \"\\xa0\" due to prior ValueError: could not convert string to float: '900\\xa0000'\n",
    "\n",
    "# display(swe_his)"
   ]
  },
  {
   "cell_type": "code",
   "execution_count": 117,
   "metadata": {},
   "outputs": [],
   "source": [
    "# 1.d)\n",
    "\n",
    "swe_pop = swe[\"Folkmängd\"]\n",
    "swe_pop = pd.concat([swe_his, swe_pop])\n",
    "# display(swe_pop.tail(100))"
   ]
  },
  {
   "cell_type": "code",
   "execution_count": 118,
   "metadata": {},
   "outputs": [],
   "source": [
    "# 1.e)\n",
    "\n",
    "# plot_pop_time(swe_pop)"
   ]
  },
  {
   "cell_type": "code",
   "execution_count": 126,
   "metadata": {},
   "outputs": [],
   "source": [
    "# 1.f)\n",
    "\n",
    "def plot_largest_death_increases():\n",
    "    swe_death = swe[[\"Döda\"]]\n",
    "    swe_death[\"Diff_%\"] = [np.nan] + [(np.divide((swe_death.iloc[i, 0] - swe_death.iloc[i-1, 0]), (swe_death.iloc[i, 0] + swe_death.iloc[i-1, 0])) * 100) for i in range(1, len(swe_death))]\n",
    "    swe_death_top10 = swe_death.sort_values(by=\"Diff_%\", ascending=False).head(10)\n",
    "    swe_death_top10 = swe_death_top10.sort_index()\n",
    "    ave = float(swe_death[\"Diff_%\"].mean())\n",
    "    mid = float(swe_death[\"Diff_%\"].median())\n",
    "    plt.figure(figsize=(10, 8))\n",
    "    ax = sns.barplot(x=swe_death_top10.index, y=swe_death_top10[\"Diff_%\"], zorder=2)\n",
    "    ax.axhline(ave, color=\"red\", linestyle=\"--\", label=\"Genomsnitt\")\n",
    "    for container in ax.containers:\n",
    "        ax.bar_label(container, fmt=\"%.2f\", label_type=\"edge\", padding=-15, color=\"white\", fontweight=\"bold\")\n",
    "    plt.yticks(np.arange(0, 16, 1))\n",
    "    plt.title(\"År med störst procentuell ökning av döda 1900-2020\\n\", fontweight=\"bold\")\n",
    "    plt.ylabel(\"Procentuell ökning\\n\", fontweight=\"bold\")\n",
    "    plt.xlabel(\"\\nÅrtal\", fontweight=\"bold\")\n",
    "    plt.grid(axis=\"y\", zorder=1)\n",
    "    plt.legend()\n",
    "    plt.show()\n",
    "    display(swe_death_top10)\n",
    "\n",
    "\n",
    "# plot_largest_death_increases()"
   ]
  },
  {
   "cell_type": "code",
   "execution_count": 120,
   "metadata": {},
   "outputs": [],
   "source": [
    "# 1.g)\n",
    "\n",
    "def plot_migration():       # NOTE: antalet döda kan inkludera immigranter vilket påverkar hela uträkningen\n",
    "    swe_mig = swe[[\"Folkmängd\", \"Födda\", \"Döda\"]]\n",
    "    swe_mig[\"Differens\"] = swe_mig[\"Folkmängd\"].diff()\n",
    "    swe_mig[\"Migration\"] = swe_mig[\"Folkmängd\"].diff() - (swe_mig[\"Födda\"] - swe_mig[\"Döda\"])\n",
    "    plt.figure(figsize=(10, 6))\n",
    "    sns.lineplot(data=swe_mig, x=swe_mig.index, y=\"Differens\", label=\"Befolkningsförändring\", linestyle=\"solid\")\n",
    "    sns.lineplot(data=swe_mig, x=swe_mig.index, y=\"Migration\", label=\"Migration\", linestyle=\"dashed\")\n",
    "    sns.lineplot(data=swe_mig, x=swe_mig.index, y=\"Födda\", label=\"Födda\", linestyle=\"dashdot\")\n",
    "    sns.lineplot(data=swe_mig, x=swe_mig.index, y=\"Döda\", label=\"Döda\", linestyle=\"dotted\")\n",
    "    plt.axhline(0, color=\"black\")\n",
    "    plt.title(\"Korrelation mellan befolkningsförändring och migration\\n\", fontweight=\"bold\")\n",
    "    plt.xlabel(\"\\nÅrtal\", fontweight=\"bold\")\n",
    "    plt.ylabel(\"Antal\\n\", fontweight=\"bold\")\n",
    "    plt.yticks(np.arange(-30000, 150000, 10000))\n",
    "    plt.grid(axis=\"y\")\n",
    "    plt.legend()\n",
    "    plt.show()\n",
    "\n",
    "# plot_migration()"
   ]
  },
  {
   "cell_type": "code",
   "execution_count": 121,
   "metadata": {},
   "outputs": [],
   "source": [
    "# 1.h)\n",
    "# Feel free to find other interesting facts about the Swedish demographics based on this data."
   ]
  },
  {
   "cell_type": "markdown",
   "metadata": {},
   "source": [
    "---\n",
    "## 2. Denmark demographic data (*)\n",
    "\n",
    "Go to the Danish-language wikipedia page [Danmarks demografi](https://da.wikipedia.org/wiki/Danmarks_demografi). \n",
    "\n",
    "&nbsp; a) Read in the table under \"Demografiske data\" into a DataFrame (*)\n",
    "\n",
    "&nbsp; b) Clean the data and draw a graph of population against year from 1769-2020. (**)\n"
   ]
  },
  {
   "cell_type": "code",
   "execution_count": 131,
   "metadata": {},
   "outputs": [],
   "source": [
    "def clear_data(df):\n",
    "    df = df.dropna(how=\"any\")\n",
    "    df.columns = [\"År\", \"Folkmängd\"]\n",
    "    df[\"År\"] = df[\"År\"].astype(int)\n",
    "    df[\"Folkmängd\"] = df[\"Folkmängd\"].astype(str).str.strip().str.replace(\".\", \"\").str.replace(\"[7]\", \"\").astype(float)\n",
    "    df = df.set_index(\"År\")\n",
    "    return df\n",
    "\n",
    "# loc = scrape_table(\"https://da.wikipedia.org/wiki/Danmarks_demografi\", 0) # sparad som CSV\n",
    "den_raw = read_table(\"/home/albot/coding/repos/databehandling-albot/Data/Danmarks_demografi_0.csv\") # tidigare arg=loc\n",
    "den = den_raw.drop(\"Unnamed: 0\", axis=1)\n",
    "den1 = den.iloc[0:, 0:2]\n",
    "den2 = den.iloc[0:, 2:4]\n",
    "den1 = clear_data(den1)\n",
    "den2 = clear_data(den2)\n",
    "den = pd.concat([den1, den2])\n",
    "# display(den)"
   ]
  },
  {
   "cell_type": "code",
   "execution_count": 123,
   "metadata": {},
   "outputs": [],
   "source": [
    "def plot_den():\n",
    "    den_modern = den.iloc[2:, :]\n",
    "    fig = px.line(data_frame=den_modern, x=den_modern.index, y=\"Folkmängd\", title=\"Danmarks befolkning över tid\")\n",
    "    fig.show()\n",
    "\n",
    "\n",
    "# plot_den()"
   ]
  },
  {
   "cell_type": "markdown",
   "metadata": {},
   "source": [
    "---\n",
    "## 3. Norwegian demographic data (*)\n",
    "\n",
    "Go to Swedish-language wikipedia page [Norges demografi](https://sv.wikipedia.org/wiki/Norges_demografi). \n",
    "\n",
    "&nbsp; a) Read in the table under \"Befolkningsstatistik sedan 1900\" into a DataFrame\n",
    "\n",
    "&nbsp; b) You see some missing data in column \"Total fertilitet\". Go to the [English page](https://en.wikipedia.org/wiki/Demographics_of_Norway) and read in the data from \"Vital statistics since 1900\".  \n",
    "\n",
    "&nbsp; c) Pick out the fertility column from b) dataset, merge it into a) dataset and clean the data so that you only have columns \"År\", \"Folkmängd\", \"Fertilitet\". \n"
   ]
  },
  {
   "cell_type": "code",
   "execution_count": 132,
   "metadata": {},
   "outputs": [
    {
     "data": {
      "text/plain": [
       "'../Data/Norges_demografi_2.csv'"
      ]
     },
     "execution_count": 132,
     "metadata": {},
     "output_type": "execute_result"
    }
   ],
   "source": [
    "loc = scrape_table(\"https://sv.wikipedia.org/wiki/Norges_demografi\", 2)\n",
    "loc"
   ]
  },
  {
   "cell_type": "markdown",
   "metadata": {},
   "source": [
    "---\n",
    "## 4. Merge Sweden-Norway (*)\n",
    "\n",
    "Create a population graph and a fertility graph showing Sweden and Norway.\n",
    "\n",
    "<details>\n",
    "\n",
    "<summary>Answer</summary>\n",
    "\n",
    "![Fertilitet Norge och Sverige](../assets/fertilitet_sv_no.png)\n",
    "\n",
    "![Folkmängd Norge och Sverige](../assets/folkmangd_sverige_norge.png)\n",
    "\n",
    "</details>"
   ]
  },
  {
   "cell_type": "code",
   "execution_count": 127,
   "metadata": {},
   "outputs": [],
   "source": [
    "# Merge Sweden - Denmark\n",
    "\n",
    "swe_1900 = swe_pop.iloc[8:, :]\n",
    "swe_1900[\"Land\"] = \"Sverige\"\n",
    "swe_1900 = swe_1900.reset_index()\n",
    "den_1900 = den.iloc[14:, :]\n",
    "den_1900[\"Land\"] = \"Danmark\"\n",
    "den_1900 = den_1900.reset_index()\n",
    "sweden = pd.concat([swe_1900, den_1900], ignore_index=True)\n",
    "sweden = sweden.sort_values(\"År\")"
   ]
  },
  {
   "cell_type": "code",
   "execution_count": 125,
   "metadata": {},
   "outputs": [
    {
     "data": {
      "application/vnd.plotly.v1+json": {
       "config": {
        "plotlyServerURL": "https://plot.ly"
       },
       "data": [
        {
         "hovertemplate": "Land=Sverige<br>År=%{x}<br>Folkmängd=%{y}<extra></extra>",
         "legendgroup": "Sverige",
         "line": {
          "color": "#636efa",
          "dash": "solid"
         },
         "marker": {
          "symbol": "circle"
         },
         "mode": "lines",
         "name": "Sverige",
         "orientation": "v",
         "showlegend": true,
         "type": "scatter",
         "x": [
          1901,
          1902,
          1903,
          1904,
          1905,
          1906,
          1907,
          1908,
          1909,
          1910,
          1911,
          1912,
          1913,
          1914,
          1915,
          1916,
          1917,
          1918,
          1919,
          1920,
          1921,
          1922,
          1923,
          1924,
          1925,
          1926,
          1927,
          1928,
          1929,
          1930,
          1931,
          1932,
          1933,
          1934,
          1935,
          1936,
          1937,
          1938,
          1939,
          1940,
          1941,
          1942,
          1943,
          1944,
          1945,
          1946,
          1947,
          1948,
          1949,
          1950,
          1951,
          1952,
          1953,
          1954,
          1955,
          1956,
          1957,
          1958,
          1959,
          1960,
          1961,
          1962,
          1963,
          1964,
          1965,
          1966,
          1967,
          1968,
          1969,
          1970,
          1971,
          1972,
          1973,
          1974,
          1975,
          1976,
          1977,
          1978,
          1979,
          1980,
          1981,
          1982,
          1983,
          1984,
          1985,
          1986,
          1987,
          1988,
          1989,
          1990,
          1991,
          1992,
          1993,
          1994,
          1995,
          1996,
          1997,
          1998,
          1999,
          2000,
          2001,
          2002,
          2003,
          2004,
          2005,
          2006,
          2007,
          2008,
          2009,
          2010,
          2011,
          2012,
          2013,
          2014,
          2015,
          2016,
          2017,
          2018,
          2019,
          2020
         ],
         "xaxis": "x",
         "y": [
          5156000,
          5187000,
          5210000,
          5241000,
          5278000,
          5316000,
          5357000,
          5404000,
          5453000,
          5499000,
          5542000,
          5583000,
          5621000,
          5659000,
          5696000,
          5735000,
          5779000,
          5807000,
          5830000,
          5876000,
          5929000,
          5971000,
          5997000,
          6021000,
          6045000,
          6064000,
          6081000,
          6097000,
          6113000,
          6131000,
          6152000,
          6176000,
          6201000,
          6222000,
          6242000,
          6259000,
          6276000,
          6297000,
          6326000,
          6356000,
          6389000,
          6432000,
          6491000,
          6560000,
          6636000,
          6719000,
          6803000,
          6883000,
          6956000,
          7014000,
          7073000,
          7125000,
          7171000,
          7213000,
          7262000,
          7315000,
          7364000,
          7409000,
          7446000,
          7480000,
          7520000,
          7562000,
          7604000,
          7661000,
          7734000,
          7808000,
          7868000,
          7914000,
          7968000,
          8043000,
          8098000,
          8122000,
          8137000,
          8161000,
          8193000,
          8222000,
          8252000,
          8276000,
          8294000,
          8310000,
          8320000,
          8325000,
          8329000,
          8337000,
          8350000,
          8370000,
          8397799,
          8436485.5,
          8492962,
          8558833,
          8617374.5,
          8668066,
          8718561,
          8780745,
          8826938.5,
          8840997.5,
          8846062,
          8850973.5,
          8857874,
          8872109,
          8895960,
          8924958,
          8958229,
          8993531,
          9029572,
          9080504.5,
          9148092,
          9219637,
          9298514.5,
          9378126,
          9449212.5,
          9519374,
          9600378.5,
          9696109.5,
          9799186,
          9923085,
          10057697.5,
          10175213.5,
          10278887,
          10353442
         ],
         "yaxis": "y"
        },
        {
         "hovertemplate": "Land=Danmark<br>År=%{x}<br>Folkmängd=%{y}<extra></extra>",
         "legendgroup": "Danmark",
         "line": {
          "color": "#EF553B",
          "dash": "solid"
         },
         "marker": {
          "symbol": "circle"
         },
         "mode": "lines",
         "name": "Danmark",
         "orientation": "v",
         "showlegend": true,
         "type": "scatter",
         "x": [
          1901,
          1906,
          1911,
          1916,
          1921,
          1925,
          1930,
          1935,
          1940,
          1945,
          1950,
          1955,
          1960,
          1965,
          1970,
          1971,
          1972,
          1973,
          1974,
          1975,
          1976,
          1977,
          1978,
          1979,
          1980,
          1981,
          1982,
          1983,
          1984,
          1985,
          1986,
          1987,
          1988,
          1989,
          1990,
          1991,
          1992,
          1993,
          1994,
          1995,
          1996,
          1997,
          1998,
          1999,
          2000,
          2001,
          2002,
          2003,
          2005,
          2010,
          2015,
          2020
         ],
         "xaxis": "x",
         "y": [
          2449540,
          2588919,
          2757076,
          2921362,
          3267831,
          3434555,
          3550656,
          3706349,
          3844312,
          4045232,
          4281275,
          4448401,
          4585256,
          4767597,
          4937579,
          4950598,
          4975653,
          5007538,
          5036184,
          5054410,
          5065313,
          5079879,
          5096959,
          5111537,
          5122065,
          5123989,
          5119155,
          5116464,
          5112130,
          5111108,
          5116273,
          5124794,
          5129254,
          5129778,
          5135409,
          5146469,
          5162126,
          5180614,
          5196642,
          5215718,
          5251027,
          5275121,
          5294860,
          5313577,
          5330020,
          5349212,
          5368354,
          5383507,
          5411405,
          5534738,
          5659715,
          5822763
         ],
         "yaxis": "y"
        }
       ],
       "layout": {
        "legend": {
         "title": {
          "text": "Land"
         },
         "tracegroupgap": 0
        },
        "template": {
         "data": {
          "bar": [
           {
            "error_x": {
             "color": "#2a3f5f"
            },
            "error_y": {
             "color": "#2a3f5f"
            },
            "marker": {
             "line": {
              "color": "#E5ECF6",
              "width": 0.5
             },
             "pattern": {
              "fillmode": "overlay",
              "size": 10,
              "solidity": 0.2
             }
            },
            "type": "bar"
           }
          ],
          "barpolar": [
           {
            "marker": {
             "line": {
              "color": "#E5ECF6",
              "width": 0.5
             },
             "pattern": {
              "fillmode": "overlay",
              "size": 10,
              "solidity": 0.2
             }
            },
            "type": "barpolar"
           }
          ],
          "carpet": [
           {
            "aaxis": {
             "endlinecolor": "#2a3f5f",
             "gridcolor": "white",
             "linecolor": "white",
             "minorgridcolor": "white",
             "startlinecolor": "#2a3f5f"
            },
            "baxis": {
             "endlinecolor": "#2a3f5f",
             "gridcolor": "white",
             "linecolor": "white",
             "minorgridcolor": "white",
             "startlinecolor": "#2a3f5f"
            },
            "type": "carpet"
           }
          ],
          "choropleth": [
           {
            "colorbar": {
             "outlinewidth": 0,
             "ticks": ""
            },
            "type": "choropleth"
           }
          ],
          "contour": [
           {
            "colorbar": {
             "outlinewidth": 0,
             "ticks": ""
            },
            "colorscale": [
             [
              0,
              "#0d0887"
             ],
             [
              0.1111111111111111,
              "#46039f"
             ],
             [
              0.2222222222222222,
              "#7201a8"
             ],
             [
              0.3333333333333333,
              "#9c179e"
             ],
             [
              0.4444444444444444,
              "#bd3786"
             ],
             [
              0.5555555555555556,
              "#d8576b"
             ],
             [
              0.6666666666666666,
              "#ed7953"
             ],
             [
              0.7777777777777778,
              "#fb9f3a"
             ],
             [
              0.8888888888888888,
              "#fdca26"
             ],
             [
              1,
              "#f0f921"
             ]
            ],
            "type": "contour"
           }
          ],
          "contourcarpet": [
           {
            "colorbar": {
             "outlinewidth": 0,
             "ticks": ""
            },
            "type": "contourcarpet"
           }
          ],
          "heatmap": [
           {
            "colorbar": {
             "outlinewidth": 0,
             "ticks": ""
            },
            "colorscale": [
             [
              0,
              "#0d0887"
             ],
             [
              0.1111111111111111,
              "#46039f"
             ],
             [
              0.2222222222222222,
              "#7201a8"
             ],
             [
              0.3333333333333333,
              "#9c179e"
             ],
             [
              0.4444444444444444,
              "#bd3786"
             ],
             [
              0.5555555555555556,
              "#d8576b"
             ],
             [
              0.6666666666666666,
              "#ed7953"
             ],
             [
              0.7777777777777778,
              "#fb9f3a"
             ],
             [
              0.8888888888888888,
              "#fdca26"
             ],
             [
              1,
              "#f0f921"
             ]
            ],
            "type": "heatmap"
           }
          ],
          "heatmapgl": [
           {
            "colorbar": {
             "outlinewidth": 0,
             "ticks": ""
            },
            "colorscale": [
             [
              0,
              "#0d0887"
             ],
             [
              0.1111111111111111,
              "#46039f"
             ],
             [
              0.2222222222222222,
              "#7201a8"
             ],
             [
              0.3333333333333333,
              "#9c179e"
             ],
             [
              0.4444444444444444,
              "#bd3786"
             ],
             [
              0.5555555555555556,
              "#d8576b"
             ],
             [
              0.6666666666666666,
              "#ed7953"
             ],
             [
              0.7777777777777778,
              "#fb9f3a"
             ],
             [
              0.8888888888888888,
              "#fdca26"
             ],
             [
              1,
              "#f0f921"
             ]
            ],
            "type": "heatmapgl"
           }
          ],
          "histogram": [
           {
            "marker": {
             "pattern": {
              "fillmode": "overlay",
              "size": 10,
              "solidity": 0.2
             }
            },
            "type": "histogram"
           }
          ],
          "histogram2d": [
           {
            "colorbar": {
             "outlinewidth": 0,
             "ticks": ""
            },
            "colorscale": [
             [
              0,
              "#0d0887"
             ],
             [
              0.1111111111111111,
              "#46039f"
             ],
             [
              0.2222222222222222,
              "#7201a8"
             ],
             [
              0.3333333333333333,
              "#9c179e"
             ],
             [
              0.4444444444444444,
              "#bd3786"
             ],
             [
              0.5555555555555556,
              "#d8576b"
             ],
             [
              0.6666666666666666,
              "#ed7953"
             ],
             [
              0.7777777777777778,
              "#fb9f3a"
             ],
             [
              0.8888888888888888,
              "#fdca26"
             ],
             [
              1,
              "#f0f921"
             ]
            ],
            "type": "histogram2d"
           }
          ],
          "histogram2dcontour": [
           {
            "colorbar": {
             "outlinewidth": 0,
             "ticks": ""
            },
            "colorscale": [
             [
              0,
              "#0d0887"
             ],
             [
              0.1111111111111111,
              "#46039f"
             ],
             [
              0.2222222222222222,
              "#7201a8"
             ],
             [
              0.3333333333333333,
              "#9c179e"
             ],
             [
              0.4444444444444444,
              "#bd3786"
             ],
             [
              0.5555555555555556,
              "#d8576b"
             ],
             [
              0.6666666666666666,
              "#ed7953"
             ],
             [
              0.7777777777777778,
              "#fb9f3a"
             ],
             [
              0.8888888888888888,
              "#fdca26"
             ],
             [
              1,
              "#f0f921"
             ]
            ],
            "type": "histogram2dcontour"
           }
          ],
          "mesh3d": [
           {
            "colorbar": {
             "outlinewidth": 0,
             "ticks": ""
            },
            "type": "mesh3d"
           }
          ],
          "parcoords": [
           {
            "line": {
             "colorbar": {
              "outlinewidth": 0,
              "ticks": ""
             }
            },
            "type": "parcoords"
           }
          ],
          "pie": [
           {
            "automargin": true,
            "type": "pie"
           }
          ],
          "scatter": [
           {
            "fillpattern": {
             "fillmode": "overlay",
             "size": 10,
             "solidity": 0.2
            },
            "type": "scatter"
           }
          ],
          "scatter3d": [
           {
            "line": {
             "colorbar": {
              "outlinewidth": 0,
              "ticks": ""
             }
            },
            "marker": {
             "colorbar": {
              "outlinewidth": 0,
              "ticks": ""
             }
            },
            "type": "scatter3d"
           }
          ],
          "scattercarpet": [
           {
            "marker": {
             "colorbar": {
              "outlinewidth": 0,
              "ticks": ""
             }
            },
            "type": "scattercarpet"
           }
          ],
          "scattergeo": [
           {
            "marker": {
             "colorbar": {
              "outlinewidth": 0,
              "ticks": ""
             }
            },
            "type": "scattergeo"
           }
          ],
          "scattergl": [
           {
            "marker": {
             "colorbar": {
              "outlinewidth": 0,
              "ticks": ""
             }
            },
            "type": "scattergl"
           }
          ],
          "scattermapbox": [
           {
            "marker": {
             "colorbar": {
              "outlinewidth": 0,
              "ticks": ""
             }
            },
            "type": "scattermapbox"
           }
          ],
          "scatterpolar": [
           {
            "marker": {
             "colorbar": {
              "outlinewidth": 0,
              "ticks": ""
             }
            },
            "type": "scatterpolar"
           }
          ],
          "scatterpolargl": [
           {
            "marker": {
             "colorbar": {
              "outlinewidth": 0,
              "ticks": ""
             }
            },
            "type": "scatterpolargl"
           }
          ],
          "scatterternary": [
           {
            "marker": {
             "colorbar": {
              "outlinewidth": 0,
              "ticks": ""
             }
            },
            "type": "scatterternary"
           }
          ],
          "surface": [
           {
            "colorbar": {
             "outlinewidth": 0,
             "ticks": ""
            },
            "colorscale": [
             [
              0,
              "#0d0887"
             ],
             [
              0.1111111111111111,
              "#46039f"
             ],
             [
              0.2222222222222222,
              "#7201a8"
             ],
             [
              0.3333333333333333,
              "#9c179e"
             ],
             [
              0.4444444444444444,
              "#bd3786"
             ],
             [
              0.5555555555555556,
              "#d8576b"
             ],
             [
              0.6666666666666666,
              "#ed7953"
             ],
             [
              0.7777777777777778,
              "#fb9f3a"
             ],
             [
              0.8888888888888888,
              "#fdca26"
             ],
             [
              1,
              "#f0f921"
             ]
            ],
            "type": "surface"
           }
          ],
          "table": [
           {
            "cells": {
             "fill": {
              "color": "#EBF0F8"
             },
             "line": {
              "color": "white"
             }
            },
            "header": {
             "fill": {
              "color": "#C8D4E3"
             },
             "line": {
              "color": "white"
             }
            },
            "type": "table"
           }
          ]
         },
         "layout": {
          "annotationdefaults": {
           "arrowcolor": "#2a3f5f",
           "arrowhead": 0,
           "arrowwidth": 1
          },
          "autotypenumbers": "strict",
          "coloraxis": {
           "colorbar": {
            "outlinewidth": 0,
            "ticks": ""
           }
          },
          "colorscale": {
           "diverging": [
            [
             0,
             "#8e0152"
            ],
            [
             0.1,
             "#c51b7d"
            ],
            [
             0.2,
             "#de77ae"
            ],
            [
             0.3,
             "#f1b6da"
            ],
            [
             0.4,
             "#fde0ef"
            ],
            [
             0.5,
             "#f7f7f7"
            ],
            [
             0.6,
             "#e6f5d0"
            ],
            [
             0.7,
             "#b8e186"
            ],
            [
             0.8,
             "#7fbc41"
            ],
            [
             0.9,
             "#4d9221"
            ],
            [
             1,
             "#276419"
            ]
           ],
           "sequential": [
            [
             0,
             "#0d0887"
            ],
            [
             0.1111111111111111,
             "#46039f"
            ],
            [
             0.2222222222222222,
             "#7201a8"
            ],
            [
             0.3333333333333333,
             "#9c179e"
            ],
            [
             0.4444444444444444,
             "#bd3786"
            ],
            [
             0.5555555555555556,
             "#d8576b"
            ],
            [
             0.6666666666666666,
             "#ed7953"
            ],
            [
             0.7777777777777778,
             "#fb9f3a"
            ],
            [
             0.8888888888888888,
             "#fdca26"
            ],
            [
             1,
             "#f0f921"
            ]
           ],
           "sequentialminus": [
            [
             0,
             "#0d0887"
            ],
            [
             0.1111111111111111,
             "#46039f"
            ],
            [
             0.2222222222222222,
             "#7201a8"
            ],
            [
             0.3333333333333333,
             "#9c179e"
            ],
            [
             0.4444444444444444,
             "#bd3786"
            ],
            [
             0.5555555555555556,
             "#d8576b"
            ],
            [
             0.6666666666666666,
             "#ed7953"
            ],
            [
             0.7777777777777778,
             "#fb9f3a"
            ],
            [
             0.8888888888888888,
             "#fdca26"
            ],
            [
             1,
             "#f0f921"
            ]
           ]
          },
          "colorway": [
           "#636efa",
           "#EF553B",
           "#00cc96",
           "#ab63fa",
           "#FFA15A",
           "#19d3f3",
           "#FF6692",
           "#B6E880",
           "#FF97FF",
           "#FECB52"
          ],
          "font": {
           "color": "#2a3f5f"
          },
          "geo": {
           "bgcolor": "white",
           "lakecolor": "white",
           "landcolor": "#E5ECF6",
           "showlakes": true,
           "showland": true,
           "subunitcolor": "white"
          },
          "hoverlabel": {
           "align": "left"
          },
          "hovermode": "closest",
          "mapbox": {
           "style": "light"
          },
          "paper_bgcolor": "white",
          "plot_bgcolor": "#E5ECF6",
          "polar": {
           "angularaxis": {
            "gridcolor": "white",
            "linecolor": "white",
            "ticks": ""
           },
           "bgcolor": "#E5ECF6",
           "radialaxis": {
            "gridcolor": "white",
            "linecolor": "white",
            "ticks": ""
           }
          },
          "scene": {
           "xaxis": {
            "backgroundcolor": "#E5ECF6",
            "gridcolor": "white",
            "gridwidth": 2,
            "linecolor": "white",
            "showbackground": true,
            "ticks": "",
            "zerolinecolor": "white"
           },
           "yaxis": {
            "backgroundcolor": "#E5ECF6",
            "gridcolor": "white",
            "gridwidth": 2,
            "linecolor": "white",
            "showbackground": true,
            "ticks": "",
            "zerolinecolor": "white"
           },
           "zaxis": {
            "backgroundcolor": "#E5ECF6",
            "gridcolor": "white",
            "gridwidth": 2,
            "linecolor": "white",
            "showbackground": true,
            "ticks": "",
            "zerolinecolor": "white"
           }
          },
          "shapedefaults": {
           "line": {
            "color": "#2a3f5f"
           }
          },
          "ternary": {
           "aaxis": {
            "gridcolor": "white",
            "linecolor": "white",
            "ticks": ""
           },
           "baxis": {
            "gridcolor": "white",
            "linecolor": "white",
            "ticks": ""
           },
           "bgcolor": "#E5ECF6",
           "caxis": {
            "gridcolor": "white",
            "linecolor": "white",
            "ticks": ""
           }
          },
          "title": {
           "x": 0.05
          },
          "xaxis": {
           "automargin": true,
           "gridcolor": "white",
           "linecolor": "white",
           "ticks": "",
           "title": {
            "standoff": 15
           },
           "zerolinecolor": "white",
           "zerolinewidth": 2
          },
          "yaxis": {
           "automargin": true,
           "gridcolor": "white",
           "linecolor": "white",
           "ticks": "",
           "title": {
            "standoff": 15
           },
           "zerolinecolor": "white",
           "zerolinewidth": 2
          }
         }
        },
        "title": {
         "text": "Sveriges och Danmarks befolkning över tid"
        },
        "xaxis": {
         "anchor": "y",
         "domain": [
          0,
          1
         ],
         "title": {
          "text": "År"
         }
        },
        "yaxis": {
         "anchor": "x",
         "domain": [
          0,
          1
         ],
         "title": {
          "text": "Folkmängd"
         }
        }
       }
      }
     },
     "metadata": {},
     "output_type": "display_data"
    }
   ],
   "source": [
    "fig= px.line(data_frame=sweden, x=\"År\", y=\"Folkmängd\", color=\"Land\", title=\"Sveriges och Danmarks befolkning över tid\")\n",
    "fig.show()"
   ]
  },
  {
   "cell_type": "markdown",
   "metadata": {},
   "source": [
    "---\n",
    "\n",
    "Kokchun Giang\n",
    "\n",
    "[LinkedIn][linkedIn_kokchun]\n",
    "\n",
    "[GitHub portfolio][github_portfolio]\n",
    "\n",
    "[linkedIn_kokchun]: https://www.linkedin.com/in/kokchungiang/\n",
    "[github_portfolio]: https://github.com/kokchun/Portfolio-Kokchun-Giang\n",
    "\n",
    "---"
   ]
  }
 ],
 "metadata": {
  "kernelspec": {
   "display_name": ".venv",
   "language": "python",
   "name": "python3"
  },
  "language_info": {
   "codemirror_mode": {
    "name": "ipython",
    "version": 3
   },
   "file_extension": ".py",
   "mimetype": "text/x-python",
   "name": "python",
   "nbconvert_exporter": "python",
   "pygments_lexer": "ipython3",
   "version": "3.12.7"
  },
  "orig_nbformat": 4
 },
 "nbformat": 4,
 "nbformat_minor": 2
}
