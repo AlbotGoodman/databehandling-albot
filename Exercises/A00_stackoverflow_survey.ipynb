{
 "cells": [
  {
   "cell_type": "markdown",
   "metadata": {},
   "source": [
    "# The 2024 Stackoverflow Survey\n",
    "\n",
    "This exercise will focus on the annual Stackoverflow survey to utilise tools from pandas and beyond."
   ]
  },
  {
   "cell_type": "code",
   "execution_count": 16,
   "metadata": {},
   "outputs": [
    {
     "data": {
      "text/plain": [
       "np.int64(832)"
      ]
     },
     "execution_count": 16,
     "metadata": {},
     "output_type": "execute_result"
    }
   ],
   "source": [
    "import pandas as pd\n",
    "import seaborn as sns\n",
    "import matplotlib.pyplot as plt\n",
    "\n",
    "# interesting columns: \"Age\", \"YearsCode\", \"Country\", \"LanguageHaveWorkedWith\", \"CompTotal\", \"Currency\"\n",
    "\n",
    "ss_raw = pd.read_csv(\"../Data/Stackoverflow/survey_results_public.csv\")\n",
    "ss = ss_raw.set_index(\"ResponseId\")\n",
    "ss = ss[[\"Age\", \"YearsCode\", \"Country\", \"LanguageHaveWorkedWith\", \"CompTotal\", \"Currency\"]]\n",
    "\n",
    "ss[\"LanguageHaveWorkedWith\"].isin([\"Python\"]).sum()\n"
   ]
  }
 ],
 "metadata": {
  "kernelspec": {
   "display_name": ".venv",
   "language": "python",
   "name": "python3"
  },
  "language_info": {
   "codemirror_mode": {
    "name": "ipython",
    "version": 3
   },
   "file_extension": ".py",
   "mimetype": "text/x-python",
   "name": "python",
   "nbconvert_exporter": "python",
   "pygments_lexer": "ipython3",
   "version": "3.12.7"
  }
 },
 "nbformat": 4,
 "nbformat_minor": 2
}
