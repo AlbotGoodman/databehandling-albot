{
 "cells": [
  {
   "cell_type": "markdown",
   "metadata": {},
   "source": [
    "# Render\n",
    "\n",
    "Default när du connectar Render + GitHub är ALLA repon. Välj bara det specifika.  \n",
    "\n",
    "För att skapa en textfil, kör:\n",
    "    pip freeze > requirements.txt\n",
    "\n",
    "addera \"gunicorn\" som en sista rad\n",
    "\n",
    "länken som genereras ska lämnas in\n",
    "\n",
    "Git book git basics är att rekommendera för läsning om git"
   ]
  }
 ],
 "metadata": {
  "language_info": {
   "name": "python"
  }
 },
 "nbformat": 4,
 "nbformat_minor": 2
}
