{
 "cells": [
  {
   "cell_type": "code",
   "execution_count": null,
   "metadata": {},
   "outputs": [],
   "source": [
    "import plotly_express as px\n",
    "\n",
    "gapminder = px.data.gapminder()\n",
    "nordic = gapminder[gapminder[\"country\"].isin([\"Sweden\", \"Norway\", \"Iceland\", \"Denmark\", \"Finland\"])]\n",
    "nordic2007 = nordic[nordic[\"year\"] == 2007]\n",
    "nordic2007"
   ]
  },
  {
   "cell_type": "code",
   "execution_count": null,
   "metadata": {},
   "outputs": [],
   "source": [
    "sweden = gapminder[gapminder[\"country\"] == \"Sweden\"]\n",
    "sweden.head()"
   ]
  },
  {
   "cell_type": "code",
   "execution_count": null,
   "metadata": {},
   "outputs": [],
   "source": [
    "fig = px.bar(sweden, x=\"year\", y=\"pop\", range_y=[0, sweden[\"pop\"].max() + 1e6],\n",
    "             title=f\"Population in Sweden {sweden['year'].min()}-{sweden['year'].max()}\",\n",
    "             labels={\"pop\": \"Population\", \"year\": \"Year\"})\n",
    "fig.show()"
   ]
  },
  {
   "cell_type": "code",
   "execution_count": null,
   "metadata": {},
   "outputs": [],
   "source": [
    "fig = px.bar(nordic2007, x=\"country\", y=\"gdpPercap\", color=\"country\", title=\"Nordic countries GPD per capita\")\n",
    "fig.show()"
   ]
  },
  {
   "cell_type": "code",
   "execution_count": null,
   "metadata": {},
   "outputs": [],
   "source": [
    "fig = px.scatter(gapminder, x=\"gdpPercap\", y=\"lifeExp\",\n",
    "                 size=\"pop\", color=\"country\", size_max=70, log_x=True,\n",
    "                 animation_frame=\"year\", animation_group=\"country\", title=\"Gapminder\",\n",
    "                 range_x=[100, 100000], range_y=[25, 90])\n",
    "fig.show()"
   ]
  }
 ],
 "metadata": {
  "kernelspec": {
   "display_name": ".venv",
   "language": "python",
   "name": "python3"
  },
  "language_info": {
   "codemirror_mode": {
    "name": "ipython",
    "version": 3
   },
   "file_extension": ".py",
   "mimetype": "text/x-python",
   "name": "python",
   "nbconvert_exporter": "python",
   "pygments_lexer": "ipython3",
   "version": "3.12.7"
  }
 },
 "nbformat": 4,
 "nbformat_minor": 2
}
