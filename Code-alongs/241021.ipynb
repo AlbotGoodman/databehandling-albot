{
 "cells": [
  {
   "cell_type": "markdown",
   "metadata": {},
   "source": [
    "# Pandas  \n",
    "\n",
    "Pandas och Seaborne bygger ovanpå numpy och plotly. \n",
    "\n",
    "### series"
   ]
  },
  {
   "cell_type": "code",
   "execution_count": null,
   "metadata": {},
   "outputs": [],
   "source": [
    "import pandas as pd\n",
    "\n",
    "data = dict(AI=24, Net=30, App=30, Java=27) #number of students\n",
    "series = pd.Series(data=data)\n",
    "\n",
    "print(data, series)"
   ]
  },
  {
   "cell_type": "code",
   "execution_count": null,
   "metadata": {},
   "outputs": [],
   "source": [
    "# här kommer vi få future warning om att inte behandla en serie som en lista\n",
    "print(f\"series[0]: {series[0]}\")"
   ]
  },
  {
   "cell_type": "code",
   "execution_count": null,
   "metadata": {},
   "outputs": [],
   "source": [
    "# ett alternativ\n",
    "print(f\"series[0] value: {series[series.keys()[0]]}\")\n",
    "\n",
    "# mer bekant\n",
    "print(f\"series[0] value: {series.iloc[-1]}\")\n",
    "\n",
    "# så som det är tänkt\n",
    "# print(f\"series[0] value: {series}\") # någonting med clumnen \"AI\""
   ]
  },
  {
   "cell_type": "markdown",
   "metadata": {},
   "source": [
    "Cesium sönderfall eller kosmisk strålning används för äkta randomisering. Eller entropy från muspekaren (vibrationer från handen). I programmering när vi använder oss av random så blir det pseudo. När vi väljer seed så blir det alltid samma resultat. Skriver vi inget seed så blir det utifrån unix-klockan som startade 1970 och har räknat varje sekund sedan dess. "
   ]
  },
  {
   "cell_type": "code",
   "execution_count": null,
   "metadata": {},
   "outputs": [],
   "source": [
    "import random as rng\n",
    "\n",
    "rng.seed(42)\n",
    "\n",
    "dice_series = pd.Series(rng.randint(1, 6) for _ in range(5))        # i random.randint(1, 6) är 1 och 6 inkluderade\n",
    "print(dice_series)\n",
    "print()\n",
    "\n",
    "print(f\"Min value: {dice_series.min()}\")\n",
    "print(f\"Max value: {dice_series.max()}\")\n",
    "print(f\"Mean value: {dice_series.mean()}\")\n",
    "print(f\"Median value: {dice_series.median()}\")\n",
    "print(f\"Standard deviation: {dice_series.std()}\")"
   ]
  },
  {
   "cell_type": "code",
   "execution_count": null,
   "metadata": {},
   "outputs": [],
   "source": [
    "import random as rng\n",
    "\n",
    "rng.seed(42)\n",
    "\n",
    "dice_series = pd.Series(rng.randint(1, 6) for _ in range(5000))        # i random.randint(1, 6) är 1 och 6 inkluderade\n",
    "print(dice_series)\n",
    "print()\n",
    "\n",
    "print(f\"Min value: {dice_series.min()}\")\n",
    "print(f\"Max value: {dice_series.max()}\")\n",
    "print(f\"Mean value: {dice_series.mean()}\")\n",
    "print(f\"Median value: {dice_series.median()}\")\n",
    "print(f\"Standard deviation: {dice_series.std()}\")   # standard deviation är ett mått på hur mycket värdena i en serie skiljer sig från medelvärdet"
   ]
  },
  {
   "cell_type": "markdown",
   "metadata": {},
   "source": [
    "Dataframe är en numpy array där varje rad är en Series. "
   ]
  },
  {
   "cell_type": "code",
   "execution_count": null,
   "metadata": {},
   "outputs": [],
   "source": [
    "df = pd.DataFrame(series, columns=[\"num students\"])\n",
    "print(df)\n",
    "print()\n",
    "print(df.T) # transponerar dataframen vilket gör att raderna blir kolumner och vice versa"
   ]
  },
  {
   "cell_type": "code",
   "execution_count": null,
   "metadata": {},
   "outputs": [],
   "source": [
    "students = pd.Series(data = dict(AI=24, Net=30, App=30, Java=27))\n",
    "language = pd.Series(data = dict(AI= \"Python\", Net= \"C#\", App= \"Kotlin\", Java= \"Java\"))\n",
    "df_programs = pd.DataFrame({\"Students\": students, \"Language\": language})\n",
    "\n",
    "print(df_programs)\n",
    "print()\n",
    "df_programs.T"
   ]
  },
  {
   "cell_type": "markdown",
   "metadata": {},
   "source": [
    "Hade Students och Language inte varit lika långa så hade vi fått ett \"NaN\". Det är i stort sett vad mycket av denna kursen går ut på, att göra något åt NaN. "
   ]
  },
  {
   "cell_type": "code",
   "execution_count": null,
   "metadata": {},
   "outputs": [],
   "source": [
    "import numpy as np\n",
    "\n",
    "df_programs = pd.DataFrame({\n",
    "    \"Students\": np.array([24, 30, 30, 27]),\n",
    "    \"Language\": np.array([\"Python\", \"C#\", \"Kotlin\", \"Java\"])}, \n",
    "    index = [\"AI\", \".NET\", \"APP\", \"Java\"])\n",
    "df_programs"
   ]
  },
  {
   "cell_type": "code",
   "execution_count": null,
   "metadata": {},
   "outputs": [],
   "source": [
    "df_programs.index"
   ]
  },
  {
   "cell_type": "markdown",
   "metadata": {},
   "source": [
    "Ovanför står det \"object\" för att index kan vara blandat, str, int, float etc. "
   ]
  },
  {
   "cell_type": "code",
   "execution_count": null,
   "metadata": {},
   "outputs": [],
   "source": [
    "df_programs[\"Students\"]"
   ]
  },
  {
   "cell_type": "code",
   "execution_count": null,
   "metadata": {},
   "outputs": [],
   "source": [
    "df_programs[[\"Language\", \"Students\"]]       # nu har vi indexerat efter kolumnerna vilket skiljer sig från numpy, det är alltså inte en lista"
   ]
  },
  {
   "cell_type": "code",
   "execution_count": null,
   "metadata": {},
   "outputs": [],
   "source": [
    "df_programs.Language"
   ]
  },
  {
   "cell_type": "code",
   "execution_count": null,
   "metadata": {},
   "outputs": [],
   "source": [
    "df_programs[\"Language\"][\".NET\"]         # direkt indexering"
   ]
  },
  {
   "cell_type": "code",
   "execution_count": null,
   "metadata": {},
   "outputs": [],
   "source": [
    "print(df_programs.loc[\"Java\"])          # radindexering\n",
    "print()\n",
    "df_programs.loc[[\"Java\", \"APP\"]]         # radindexering"
   ]
  },
  {
   "cell_type": "code",
   "execution_count": null,
   "metadata": {},
   "outputs": [],
   "source": [
    "df_programs.iloc[1:3]         # radindexering"
   ]
  },
  {
   "cell_type": "code",
   "execution_count": null,
   "metadata": {},
   "outputs": [],
   "source": [
    "df_programs.loc[df_programs[\"Students\"] > 28]        "
   ]
  },
  {
   "cell_type": "markdown",
   "metadata": {},
   "source": [
    "Detta kallas maskning och inte indexering.  \n",
    "\n",
    "df = df[conditions]  \n",
    "där condition är ett boolskt uttryck (dvs ger sant eller falskt)"
   ]
  },
  {
   "cell_type": "code",
   "execution_count": null,
   "metadata": {},
   "outputs": [],
   "source": [
    "df_programs[\"Students\"] > 25            # masking"
   ]
  },
  {
   "cell_type": "code",
   "execution_count": null,
   "metadata": {},
   "outputs": [],
   "source": [
    "df_over_25 = df_programs[df_programs[\"Students\"] > 25]\n",
    "df_over_25"
   ]
  },
  {
   "cell_type": "code",
   "execution_count": null,
   "metadata": {},
   "outputs": [],
   "source": [
    "df_programs.loc[df_programs[\"Language\"].str.contains(\"Java\")]"
   ]
  },
  {
   "cell_type": "code",
   "execution_count": null,
   "metadata": {},
   "outputs": [],
   "source": [
    "import matplotlib.pyplot as plt\n",
    "import seaborn as sns\n",
    "\n",
    "df = pd.read_excel(\"../Data/calories.xlsx\")\n",
    "df.head()"
   ]
  },
  {
   "cell_type": "code",
   "execution_count": null,
   "metadata": {},
   "outputs": [],
   "source": [
    "df.FoodCategory.unique()"
   ]
  },
  {
   "cell_type": "code",
   "execution_count": null,
   "metadata": {},
   "outputs": [],
   "source": [
    "df = df.rename(dict(Cals_per_100g=\"Calories\"),\n",
    "               per100grams=\"percent\",\n",
    "               KJ_per_100g=\"kJ\",\n",
    "               axis=\"columns\")"
   ]
  },
  {
   "cell_type": "markdown",
   "metadata": {},
   "source": [
    "Fick ovan problem och kunde inte längre hänga med. Kolla på Raphaels anteckningar. "
   ]
  }
 ],
 "metadata": {
  "kernelspec": {
   "display_name": ".venv",
   "language": "python",
   "name": "python3"
  },
  "language_info": {
   "codemirror_mode": {
    "name": "ipython",
    "version": 3
   },
   "file_extension": ".py",
   "mimetype": "text/x-python",
   "name": "python",
   "nbconvert_exporter": "python",
   "pygments_lexer": "ipython3",
   "version": "3.12.7"
  }
 },
 "nbformat": 4,
 "nbformat_minor": 2
}
