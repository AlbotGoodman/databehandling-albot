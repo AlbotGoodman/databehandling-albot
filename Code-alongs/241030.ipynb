{
 "cells": [
  {
   "cell_type": "markdown",
   "metadata": {},
   "source": [
    "# GDPR  \n",
    "\n",
    "Problematiken i grunden var ansamling av persondata som skiljer sig inom unionen. Det är svårt för ett enskilt land att driva detta mot techbolag. Just nu pågår en utvärdering av GDPR och det verkar gå sådär. Tanken var att kunna bötfälla bolag men det har inte hänt. Tanken var böter utifrån omsättning och antal överträdelser (?).  \n",
    "\n",
    "Datalagringsförordningen är något unikt för Sverige som vi inte får för EU (?). T ex Bahnhof har vägrat följa den.  \n",
    "\n",
    "IP-adress anses som en personuppgift. Saker som MAC-adresser är däremot inte en personuppgift. Kontentan, vissa typer är personuppgifter och andra inte. Håll koll! Beror på om det dykt upp i rättegång tidigare.  \n",
    "\n",
    "Som lagen är formulerad skiljs inte privat och kommersiellt bruk men i realitet är det en skillnad.  \n",
    "\n",
    "Biometriska uppgifter som vi inte vanligen tänker på innefattas också (stressnivåer, puls, andning etc).  \n",
    "\n",
    "Riktlinjer för internetanvändning för barn har med doom scrolling, hate clicks etc där reklam försöker få oss att tänka på ett visst sätt.  \n",
    "\n",
    "Svensk lagstiftning ligger över GDPR, säkerligen offentlighets- och sekretessförordningen och tryckfrihetsförordningen.  \n",
    "\n",
    "Om du tar på dig att lagra uppgifter så ansvarar du även för att uppdatera dem.  \n",
    "\n",
    "## Anonymisering\n",
    "\n",
    "Kryptografisk hash är vanligt. För att få en ännu säkrare variant vill vi ha en one-way hash key så att det aldrig går att återskapa originaldatan. Kallas ibland \"shadowing\". Vanligt är SHA (secure hash algorithm).  \n",
    "\n",
    "T ex någon skapar ett lösenord, kör SHA-256, räknar ut en shadow av den krypterade strängen. Den kommer alltid vara densamma. Då kan vi kolla att nästa gång lösenordet skickas in om shadow matchar. Det kan dock hända att två lösenord kan få samma hash, det beror på hur långt lösenord (?) men det är väldigt liten chans. 1 på 2^37 för en kollision (1 på hundra miljarder). Hashnycklar från en dict är inte kryptografiska eller one-way. En shadow-sträng är inte identifierbar med personuppgifter så då får vi göra vad vi vill. Via https är det tvåvägs, SSL, RSA.  \n",
    "\n",
    "FRÅGA: med ev prejudikat i chat control, kommer kryptering spela någon roll?  "
   ]
  }
 ],
 "metadata": {
  "language_info": {
   "name": "python"
  }
 },
 "nbformat": 4,
 "nbformat_minor": 2
}
