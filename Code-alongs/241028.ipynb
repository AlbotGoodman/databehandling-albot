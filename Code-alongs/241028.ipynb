{
 "cells": [
  {
   "cell_type": "markdown",
   "metadata": {},
   "source": [
    "Inner join är ett logiskt snitt, som \"mergar alla gemensamma nämnare\". Vid en outer join kan det vara bra att veta att eventuellt räknas de gemensamma två gånger.  \n",
    "\n",
    "När vi inhämtar data är det viktigt att veta om vi har rätt att använda den osv. I Sverige har vi ganska stor rätt att använda mycket för personligt bruk.  \n",
    "\n",
    "Viktigt att komma ihåg om du webscrapar så spara hemsidan eftersom de kan förändras, innehåll uppdateras/försvinna etc.  \n",
    "\n",
    "Tidszoner och tidbyten mm är riktigt krångligt i kodvärlden.  \n",
    "\n",
    "Nästa gång: titta på finansdata, visualisering. "
   ]
  }
 ],
 "metadata": {
  "language_info": {
   "name": "python"
  }
 },
 "nbformat": 4,
 "nbformat_minor": 2
}
