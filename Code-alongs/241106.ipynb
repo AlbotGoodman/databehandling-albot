{
 "cells": [
  {
   "cell_type": "markdown",
   "metadata": {},
   "source": [
    "# Repetition  \n",
    "\n",
    "Rätta värden är enklare att göra i pandas. Rätta tabell och format för struktur är enklare att göra innan vi konverterar det till dataframe/series.  \n",
    "\n",
    "Vector  = 1D (tekniskt sett en 1-tensor)\n",
    "Matris  = 2D (tekniskt sett en 2-tensor)\n",
    "Tensor >= 3D"
   ]
  },
  {
   "cell_type": "code",
   "execution_count": null,
   "metadata": {},
   "outputs": [
    {
     "name": "stdout",
     "output_type": "stream",
     "text": [
      "Index(['Course', 'Code'], dtype='object')\n",
      "Index(['Course', 'Code'], dtype='object')\n"
     ]
    }
   ],
   "source": [
    "import pandas as pd\n",
    "\n",
    "df = dict(AI = \"412\", Net = \"456\", DB = \"789\")\n",
    "df = pd.DataFrame(list(df.items()), columns=['Course', 'Code'])\n",
    "\n",
    "df[\"Code\"] = pd.to_numeric(df[\"Code\"])\n",
    "\n",
    "print(df.columns)   # samma, går att indexera\n",
    "print(df.keys())    # samma, går att indexera\n",
    "\n"
   ]
  }
 ],
 "metadata": {
  "kernelspec": {
   "display_name": ".venv",
   "language": "python",
   "name": "python3"
  },
  "language_info": {
   "codemirror_mode": {
    "name": "ipython",
    "version": 3
   },
   "file_extension": ".py",
   "mimetype": "text/x-python",
   "name": "python",
   "nbconvert_exporter": "python",
   "pygments_lexer": "ipython3",
   "version": "3.12.7"
  }
 },
 "nbformat": 4,
 "nbformat_minor": 2
}
