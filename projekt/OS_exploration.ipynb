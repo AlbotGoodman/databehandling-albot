{
 "cells": [
  {
   "cell_type": "code",
   "execution_count": 1,
   "metadata": {},
   "outputs": [
    {
     "ename": "FileNotFoundError",
     "evalue": "[Errno 2] No such file or directory: '../data/athlete_events.csv'",
     "output_type": "error",
     "traceback": [
      "\u001b[1;31m---------------------------------------------------------------------------\u001b[0m",
      "\u001b[1;31mFileNotFoundError\u001b[0m                         Traceback (most recent call last)",
      "Cell \u001b[1;32mIn [1], line 6\u001b[0m\n\u001b[0;32m      3\u001b[0m \u001b[39mimport\u001b[39;00m \u001b[39mseaborn\u001b[39;00m \u001b[39mas\u001b[39;00m \u001b[39msns\u001b[39;00m\n\u001b[0;32m      4\u001b[0m \u001b[39mimport\u001b[39;00m \u001b[39mplotly\u001b[39;00m\u001b[39m.\u001b[39;00m\u001b[39mexpress\u001b[39;00m \u001b[39mas\u001b[39;00m \u001b[39mpx\u001b[39;00m \n\u001b[1;32m----> 6\u001b[0m df \u001b[39m=\u001b[39m pd\u001b[39m.\u001b[39;49mread_csv(\u001b[39m\"\u001b[39;49m\u001b[39m../data/athlete_events.csv\u001b[39;49m\u001b[39m\"\u001b[39;49m)\n\u001b[0;32m      7\u001b[0m df\u001b[39m.\u001b[39mhead()\n",
      "File \u001b[1;32mc:\\Users\\kokch\\.virtualenvs\\Databehandling-AI22-pxcu1tX3\\lib\\site-packages\\pandas\\util\\_decorators.py:211\u001b[0m, in \u001b[0;36mdeprecate_kwarg.<locals>._deprecate_kwarg.<locals>.wrapper\u001b[1;34m(*args, **kwargs)\u001b[0m\n\u001b[0;32m    209\u001b[0m     \u001b[39melse\u001b[39;00m:\n\u001b[0;32m    210\u001b[0m         kwargs[new_arg_name] \u001b[39m=\u001b[39m new_arg_value\n\u001b[1;32m--> 211\u001b[0m \u001b[39mreturn\u001b[39;00m func(\u001b[39m*\u001b[39margs, \u001b[39m*\u001b[39m\u001b[39m*\u001b[39mkwargs)\n",
      "File \u001b[1;32mc:\\Users\\kokch\\.virtualenvs\\Databehandling-AI22-pxcu1tX3\\lib\\site-packages\\pandas\\util\\_decorators.py:331\u001b[0m, in \u001b[0;36mdeprecate_nonkeyword_arguments.<locals>.decorate.<locals>.wrapper\u001b[1;34m(*args, **kwargs)\u001b[0m\n\u001b[0;32m    325\u001b[0m \u001b[39mif\u001b[39;00m \u001b[39mlen\u001b[39m(args) \u001b[39m>\u001b[39m num_allow_args:\n\u001b[0;32m    326\u001b[0m     warnings\u001b[39m.\u001b[39mwarn(\n\u001b[0;32m    327\u001b[0m         msg\u001b[39m.\u001b[39mformat(arguments\u001b[39m=\u001b[39m_format_argument_list(allow_args)),\n\u001b[0;32m    328\u001b[0m         \u001b[39mFutureWarning\u001b[39;00m,\n\u001b[0;32m    329\u001b[0m         stacklevel\u001b[39m=\u001b[39mfind_stack_level(),\n\u001b[0;32m    330\u001b[0m     )\n\u001b[1;32m--> 331\u001b[0m \u001b[39mreturn\u001b[39;00m func(\u001b[39m*\u001b[39margs, \u001b[39m*\u001b[39m\u001b[39m*\u001b[39mkwargs)\n",
      "File \u001b[1;32mc:\\Users\\kokch\\.virtualenvs\\Databehandling-AI22-pxcu1tX3\\lib\\site-packages\\pandas\\io\\parsers\\readers.py:950\u001b[0m, in \u001b[0;36mread_csv\u001b[1;34m(filepath_or_buffer, sep, delimiter, header, names, index_col, usecols, squeeze, prefix, mangle_dupe_cols, dtype, engine, converters, true_values, false_values, skipinitialspace, skiprows, skipfooter, nrows, na_values, keep_default_na, na_filter, verbose, skip_blank_lines, parse_dates, infer_datetime_format, keep_date_col, date_parser, dayfirst, cache_dates, iterator, chunksize, compression, thousands, decimal, lineterminator, quotechar, quoting, doublequote, escapechar, comment, encoding, encoding_errors, dialect, error_bad_lines, warn_bad_lines, on_bad_lines, delim_whitespace, low_memory, memory_map, float_precision, storage_options)\u001b[0m\n\u001b[0;32m    935\u001b[0m kwds_defaults \u001b[39m=\u001b[39m _refine_defaults_read(\n\u001b[0;32m    936\u001b[0m     dialect,\n\u001b[0;32m    937\u001b[0m     delimiter,\n\u001b[1;32m   (...)\u001b[0m\n\u001b[0;32m    946\u001b[0m     defaults\u001b[39m=\u001b[39m{\u001b[39m\"\u001b[39m\u001b[39mdelimiter\u001b[39m\u001b[39m\"\u001b[39m: \u001b[39m\"\u001b[39m\u001b[39m,\u001b[39m\u001b[39m\"\u001b[39m},\n\u001b[0;32m    947\u001b[0m )\n\u001b[0;32m    948\u001b[0m kwds\u001b[39m.\u001b[39mupdate(kwds_defaults)\n\u001b[1;32m--> 950\u001b[0m \u001b[39mreturn\u001b[39;00m _read(filepath_or_buffer, kwds)\n",
      "File \u001b[1;32mc:\\Users\\kokch\\.virtualenvs\\Databehandling-AI22-pxcu1tX3\\lib\\site-packages\\pandas\\io\\parsers\\readers.py:605\u001b[0m, in \u001b[0;36m_read\u001b[1;34m(filepath_or_buffer, kwds)\u001b[0m\n\u001b[0;32m    602\u001b[0m _validate_names(kwds\u001b[39m.\u001b[39mget(\u001b[39m\"\u001b[39m\u001b[39mnames\u001b[39m\u001b[39m\"\u001b[39m, \u001b[39mNone\u001b[39;00m))\n\u001b[0;32m    604\u001b[0m \u001b[39m# Create the parser.\u001b[39;00m\n\u001b[1;32m--> 605\u001b[0m parser \u001b[39m=\u001b[39m TextFileReader(filepath_or_buffer, \u001b[39m*\u001b[39m\u001b[39m*\u001b[39mkwds)\n\u001b[0;32m    607\u001b[0m \u001b[39mif\u001b[39;00m chunksize \u001b[39mor\u001b[39;00m iterator:\n\u001b[0;32m    608\u001b[0m     \u001b[39mreturn\u001b[39;00m parser\n",
      "File \u001b[1;32mc:\\Users\\kokch\\.virtualenvs\\Databehandling-AI22-pxcu1tX3\\lib\\site-packages\\pandas\\io\\parsers\\readers.py:1442\u001b[0m, in \u001b[0;36mTextFileReader.__init__\u001b[1;34m(self, f, engine, **kwds)\u001b[0m\n\u001b[0;32m   1439\u001b[0m     \u001b[39mself\u001b[39m\u001b[39m.\u001b[39moptions[\u001b[39m\"\u001b[39m\u001b[39mhas_index_names\u001b[39m\u001b[39m\"\u001b[39m] \u001b[39m=\u001b[39m kwds[\u001b[39m\"\u001b[39m\u001b[39mhas_index_names\u001b[39m\u001b[39m\"\u001b[39m]\n\u001b[0;32m   1441\u001b[0m \u001b[39mself\u001b[39m\u001b[39m.\u001b[39mhandles: IOHandles \u001b[39m|\u001b[39m \u001b[39mNone\u001b[39;00m \u001b[39m=\u001b[39m \u001b[39mNone\u001b[39;00m\n\u001b[1;32m-> 1442\u001b[0m \u001b[39mself\u001b[39m\u001b[39m.\u001b[39m_engine \u001b[39m=\u001b[39m \u001b[39mself\u001b[39;49m\u001b[39m.\u001b[39;49m_make_engine(f, \u001b[39mself\u001b[39;49m\u001b[39m.\u001b[39;49mengine)\n",
      "File \u001b[1;32mc:\\Users\\kokch\\.virtualenvs\\Databehandling-AI22-pxcu1tX3\\lib\\site-packages\\pandas\\io\\parsers\\readers.py:1735\u001b[0m, in \u001b[0;36mTextFileReader._make_engine\u001b[1;34m(self, f, engine)\u001b[0m\n\u001b[0;32m   1733\u001b[0m     \u001b[39mif\u001b[39;00m \u001b[39m\"\u001b[39m\u001b[39mb\u001b[39m\u001b[39m\"\u001b[39m \u001b[39mnot\u001b[39;00m \u001b[39min\u001b[39;00m mode:\n\u001b[0;32m   1734\u001b[0m         mode \u001b[39m+\u001b[39m\u001b[39m=\u001b[39m \u001b[39m\"\u001b[39m\u001b[39mb\u001b[39m\u001b[39m\"\u001b[39m\n\u001b[1;32m-> 1735\u001b[0m \u001b[39mself\u001b[39m\u001b[39m.\u001b[39mhandles \u001b[39m=\u001b[39m get_handle(\n\u001b[0;32m   1736\u001b[0m     f,\n\u001b[0;32m   1737\u001b[0m     mode,\n\u001b[0;32m   1738\u001b[0m     encoding\u001b[39m=\u001b[39;49m\u001b[39mself\u001b[39;49m\u001b[39m.\u001b[39;49moptions\u001b[39m.\u001b[39;49mget(\u001b[39m\"\u001b[39;49m\u001b[39mencoding\u001b[39;49m\u001b[39m\"\u001b[39;49m, \u001b[39mNone\u001b[39;49;00m),\n\u001b[0;32m   1739\u001b[0m     compression\u001b[39m=\u001b[39;49m\u001b[39mself\u001b[39;49m\u001b[39m.\u001b[39;49moptions\u001b[39m.\u001b[39;49mget(\u001b[39m\"\u001b[39;49m\u001b[39mcompression\u001b[39;49m\u001b[39m\"\u001b[39;49m, \u001b[39mNone\u001b[39;49;00m),\n\u001b[0;32m   1740\u001b[0m     memory_map\u001b[39m=\u001b[39;49m\u001b[39mself\u001b[39;49m\u001b[39m.\u001b[39;49moptions\u001b[39m.\u001b[39;49mget(\u001b[39m\"\u001b[39;49m\u001b[39mmemory_map\u001b[39;49m\u001b[39m\"\u001b[39;49m, \u001b[39mFalse\u001b[39;49;00m),\n\u001b[0;32m   1741\u001b[0m     is_text\u001b[39m=\u001b[39;49mis_text,\n\u001b[0;32m   1742\u001b[0m     errors\u001b[39m=\u001b[39;49m\u001b[39mself\u001b[39;49m\u001b[39m.\u001b[39;49moptions\u001b[39m.\u001b[39;49mget(\u001b[39m\"\u001b[39;49m\u001b[39mencoding_errors\u001b[39;49m\u001b[39m\"\u001b[39;49m, \u001b[39m\"\u001b[39;49m\u001b[39mstrict\u001b[39;49m\u001b[39m\"\u001b[39;49m),\n\u001b[0;32m   1743\u001b[0m     storage_options\u001b[39m=\u001b[39;49m\u001b[39mself\u001b[39;49m\u001b[39m.\u001b[39;49moptions\u001b[39m.\u001b[39;49mget(\u001b[39m\"\u001b[39;49m\u001b[39mstorage_options\u001b[39;49m\u001b[39m\"\u001b[39;49m, \u001b[39mNone\u001b[39;49;00m),\n\u001b[0;32m   1744\u001b[0m )\n\u001b[0;32m   1745\u001b[0m \u001b[39massert\u001b[39;00m \u001b[39mself\u001b[39m\u001b[39m.\u001b[39mhandles \u001b[39mis\u001b[39;00m \u001b[39mnot\u001b[39;00m \u001b[39mNone\u001b[39;00m\n\u001b[0;32m   1746\u001b[0m f \u001b[39m=\u001b[39m \u001b[39mself\u001b[39m\u001b[39m.\u001b[39mhandles\u001b[39m.\u001b[39mhandle\n",
      "File \u001b[1;32mc:\\Users\\kokch\\.virtualenvs\\Databehandling-AI22-pxcu1tX3\\lib\\site-packages\\pandas\\io\\common.py:856\u001b[0m, in \u001b[0;36mget_handle\u001b[1;34m(path_or_buf, mode, encoding, compression, memory_map, is_text, errors, storage_options)\u001b[0m\n\u001b[0;32m    851\u001b[0m \u001b[39melif\u001b[39;00m \u001b[39misinstance\u001b[39m(handle, \u001b[39mstr\u001b[39m):\n\u001b[0;32m    852\u001b[0m     \u001b[39m# Check whether the filename is to be opened in binary mode.\u001b[39;00m\n\u001b[0;32m    853\u001b[0m     \u001b[39m# Binary mode does not support 'encoding' and 'newline'.\u001b[39;00m\n\u001b[0;32m    854\u001b[0m     \u001b[39mif\u001b[39;00m ioargs\u001b[39m.\u001b[39mencoding \u001b[39mand\u001b[39;00m \u001b[39m\"\u001b[39m\u001b[39mb\u001b[39m\u001b[39m\"\u001b[39m \u001b[39mnot\u001b[39;00m \u001b[39min\u001b[39;00m ioargs\u001b[39m.\u001b[39mmode:\n\u001b[0;32m    855\u001b[0m         \u001b[39m# Encoding\u001b[39;00m\n\u001b[1;32m--> 856\u001b[0m         handle \u001b[39m=\u001b[39m \u001b[39mopen\u001b[39;49m(\n\u001b[0;32m    857\u001b[0m             handle,\n\u001b[0;32m    858\u001b[0m             ioargs\u001b[39m.\u001b[39;49mmode,\n\u001b[0;32m    859\u001b[0m             encoding\u001b[39m=\u001b[39;49mioargs\u001b[39m.\u001b[39;49mencoding,\n\u001b[0;32m    860\u001b[0m             errors\u001b[39m=\u001b[39;49merrors,\n\u001b[0;32m    861\u001b[0m             newline\u001b[39m=\u001b[39;49m\u001b[39m\"\u001b[39;49m\u001b[39m\"\u001b[39;49m,\n\u001b[0;32m    862\u001b[0m         )\n\u001b[0;32m    863\u001b[0m     \u001b[39melse\u001b[39;00m:\n\u001b[0;32m    864\u001b[0m         \u001b[39m# Binary mode\u001b[39;00m\n\u001b[0;32m    865\u001b[0m         handle \u001b[39m=\u001b[39m \u001b[39mopen\u001b[39m(handle, ioargs\u001b[39m.\u001b[39mmode)\n",
      "\u001b[1;31mFileNotFoundError\u001b[0m: [Errno 2] No such file or directory: '../data/athlete_events.csv'"
     ]
    }
   ],
   "source": [
    "import pandas as pd\n",
    "import matplotlib.pyplot as plt \n",
    "import seaborn as sns\n",
    "import plotly.express as px \n",
    "\n",
    "df = pd.read_csv(\"../data/athlete_events.csv\")\n",
    "df.head()"
   ]
  },
  {
   "cell_type": "code",
   "execution_count": null,
   "metadata": {},
   "outputs": [
    {
     "data": {
      "text/html": [
       "<div>\n",
       "<style scoped>\n",
       "    .dataframe tbody tr th:only-of-type {\n",
       "        vertical-align: middle;\n",
       "    }\n",
       "\n",
       "    .dataframe tbody tr th {\n",
       "        vertical-align: top;\n",
       "    }\n",
       "\n",
       "    .dataframe thead th {\n",
       "        text-align: right;\n",
       "    }\n",
       "</style>\n",
       "<table border=\"1\" class=\"dataframe\">\n",
       "  <thead>\n",
       "    <tr style=\"text-align: right;\">\n",
       "      <th></th>\n",
       "      <th>ID</th>\n",
       "      <th>Name</th>\n",
       "      <th>Sex</th>\n",
       "      <th>Age</th>\n",
       "      <th>Height</th>\n",
       "      <th>Weight</th>\n",
       "      <th>Team</th>\n",
       "      <th>NOC</th>\n",
       "      <th>Games</th>\n",
       "      <th>Year</th>\n",
       "      <th>Season</th>\n",
       "      <th>City</th>\n",
       "      <th>Sport</th>\n",
       "      <th>Event</th>\n",
       "      <th>Medal</th>\n",
       "    </tr>\n",
       "  </thead>\n",
       "  <tbody>\n",
       "    <tr>\n",
       "      <th>98</th>\n",
       "      <td>34</td>\n",
       "      <td>Jamale (Djamel-) Aarrass (Ahrass-)</td>\n",
       "      <td>M</td>\n",
       "      <td>30.0</td>\n",
       "      <td>187.0</td>\n",
       "      <td>76.0</td>\n",
       "      <td>France</td>\n",
       "      <td>FRA</td>\n",
       "      <td>2012 Summer</td>\n",
       "      <td>2012</td>\n",
       "      <td>Summer</td>\n",
       "      <td>London</td>\n",
       "      <td>Athletics</td>\n",
       "      <td>Athletics Men's 1,500 metres</td>\n",
       "      <td>NaN</td>\n",
       "    </tr>\n",
       "    <tr>\n",
       "      <th>145</th>\n",
       "      <td>52</td>\n",
       "      <td>Patrick Abada</td>\n",
       "      <td>M</td>\n",
       "      <td>22.0</td>\n",
       "      <td>189.0</td>\n",
       "      <td>80.0</td>\n",
       "      <td>France</td>\n",
       "      <td>FRA</td>\n",
       "      <td>1976 Summer</td>\n",
       "      <td>1976</td>\n",
       "      <td>Summer</td>\n",
       "      <td>Montreal</td>\n",
       "      <td>Athletics</td>\n",
       "      <td>Athletics Men's Pole Vault</td>\n",
       "      <td>NaN</td>\n",
       "    </tr>\n",
       "    <tr>\n",
       "      <th>149</th>\n",
       "      <td>56</td>\n",
       "      <td>Ren Abadie</td>\n",
       "      <td>M</td>\n",
       "      <td>21.0</td>\n",
       "      <td>NaN</td>\n",
       "      <td>NaN</td>\n",
       "      <td>France</td>\n",
       "      <td>FRA</td>\n",
       "      <td>1956 Summer</td>\n",
       "      <td>1956</td>\n",
       "      <td>Summer</td>\n",
       "      <td>Melbourne</td>\n",
       "      <td>Cycling</td>\n",
       "      <td>Cycling Men's Road Race, Individual</td>\n",
       "      <td>NaN</td>\n",
       "    </tr>\n",
       "    <tr>\n",
       "      <th>150</th>\n",
       "      <td>56</td>\n",
       "      <td>Ren Abadie</td>\n",
       "      <td>M</td>\n",
       "      <td>21.0</td>\n",
       "      <td>NaN</td>\n",
       "      <td>NaN</td>\n",
       "      <td>France</td>\n",
       "      <td>FRA</td>\n",
       "      <td>1956 Summer</td>\n",
       "      <td>1956</td>\n",
       "      <td>Summer</td>\n",
       "      <td>Melbourne</td>\n",
       "      <td>Cycling</td>\n",
       "      <td>Cycling Men's Road Race, Team</td>\n",
       "      <td>Gold</td>\n",
       "    </tr>\n",
       "    <tr>\n",
       "      <th>173</th>\n",
       "      <td>73</td>\n",
       "      <td>Luc Abalo</td>\n",
       "      <td>M</td>\n",
       "      <td>23.0</td>\n",
       "      <td>182.0</td>\n",
       "      <td>86.0</td>\n",
       "      <td>France</td>\n",
       "      <td>FRA</td>\n",
       "      <td>2008 Summer</td>\n",
       "      <td>2008</td>\n",
       "      <td>Summer</td>\n",
       "      <td>Beijing</td>\n",
       "      <td>Handball</td>\n",
       "      <td>Handball Men's Handball</td>\n",
       "      <td>Gold</td>\n",
       "    </tr>\n",
       "  </tbody>\n",
       "</table>\n",
       "</div>"
      ],
      "text/plain": [
       "     ID                                Name Sex   Age  Height  Weight    Team  \\\n",
       "98   34  Jamale (Djamel-) Aarrass (Ahrass-)   M  30.0   187.0    76.0  France   \n",
       "145  52                       Patrick Abada   M  22.0   189.0    80.0  France   \n",
       "149  56                          Ren Abadie   M  21.0     NaN     NaN  France   \n",
       "150  56                          Ren Abadie   M  21.0     NaN     NaN  France   \n",
       "173  73                           Luc Abalo   M  23.0   182.0    86.0  France   \n",
       "\n",
       "     NOC        Games  Year  Season       City      Sport  \\\n",
       "98   FRA  2012 Summer  2012  Summer     London  Athletics   \n",
       "145  FRA  1976 Summer  1976  Summer   Montreal  Athletics   \n",
       "149  FRA  1956 Summer  1956  Summer  Melbourne    Cycling   \n",
       "150  FRA  1956 Summer  1956  Summer  Melbourne    Cycling   \n",
       "173  FRA  2008 Summer  2008  Summer    Beijing   Handball   \n",
       "\n",
       "                                   Event Medal  \n",
       "98          Athletics Men's 1,500 metres   NaN  \n",
       "145           Athletics Men's Pole Vault   NaN  \n",
       "149  Cycling Men's Road Race, Individual   NaN  \n",
       "150        Cycling Men's Road Race, Team  Gold  \n",
       "173              Handball Men's Handball  Gold  "
      ]
     },
     "execution_count": 6,
     "metadata": {},
     "output_type": "execute_result"
    }
   ],
   "source": [
    "fra = df.query(\"NOC == 'FRA'\")\n",
    "fra.head()"
   ]
  },
  {
   "cell_type": "code",
   "execution_count": null,
   "metadata": {},
   "outputs": [
    {
     "data": {
      "text/plain": [
       "Fencing                 85\n",
       "Rowing                  48\n",
       "Sailing                 39\n",
       "Athletics               38\n",
       "Rugby                   34\n",
       "Cycling                 34\n",
       "Swimming                28\n",
       "Basketball              26\n",
       "Archery                 25\n",
       "Shooting                25\n",
       "Equestrianism           23\n",
       "Gymnastics              17\n",
       "Football                16\n",
       "Handball                15\n",
       "Canoeing                11\n",
       "Boxing                   8\n",
       "Alpine Skiing            7\n",
       "Tennis                   7\n",
       "Tug-Of-War               5\n",
       "Judo                     5\n",
       "Wrestling                4\n",
       "Biathlon                 3\n",
       "Art Competitions         3\n",
       "Cricket                  3\n",
       "Freestyle Skiing         3\n",
       "Weightlifting            3\n",
       "Figure Skating           2\n",
       "Croquet                  2\n",
       "Cross Country Skiing     1\n",
       "Polo                     1\n",
       "Table Tennis             1\n",
       "Nordic Combined          1\n",
       "Name: Sport, dtype: int64"
      ]
     },
     "execution_count": 23,
     "metadata": {},
     "output_type": "execute_result"
    }
   ],
   "source": [
    "medal = \"Silver\"\n",
    "fra.loc[fra.eval(\"Medal == @medal & Sex == 'M'\"), \"Sport\"].value_counts()"
   ]
  },
  {
   "cell_type": "code",
   "execution_count": null,
   "metadata": {},
   "outputs": [
    {
     "data": {
      "text/html": [
       "<div>\n",
       "<style scoped>\n",
       "    .dataframe tbody tr th:only-of-type {\n",
       "        vertical-align: middle;\n",
       "    }\n",
       "\n",
       "    .dataframe tbody tr th {\n",
       "        vertical-align: top;\n",
       "    }\n",
       "\n",
       "    .dataframe thead th {\n",
       "        text-align: right;\n",
       "    }\n",
       "</style>\n",
       "<table border=\"1\" class=\"dataframe\">\n",
       "  <thead>\n",
       "    <tr style=\"text-align: right;\">\n",
       "      <th></th>\n",
       "      <th>ID</th>\n",
       "      <th>Age</th>\n",
       "      <th>Height</th>\n",
       "      <th>Weight</th>\n",
       "      <th>Year</th>\n",
       "    </tr>\n",
       "  </thead>\n",
       "  <tbody>\n",
       "    <tr>\n",
       "      <th>count</th>\n",
       "      <td>271116.000000</td>\n",
       "      <td>261642.000000</td>\n",
       "      <td>210945.000000</td>\n",
       "      <td>208241.000000</td>\n",
       "      <td>271116.000000</td>\n",
       "    </tr>\n",
       "    <tr>\n",
       "      <th>mean</th>\n",
       "      <td>68248.954396</td>\n",
       "      <td>25.556898</td>\n",
       "      <td>175.338970</td>\n",
       "      <td>70.702393</td>\n",
       "      <td>1978.378480</td>\n",
       "    </tr>\n",
       "    <tr>\n",
       "      <th>std</th>\n",
       "      <td>39022.286345</td>\n",
       "      <td>6.393561</td>\n",
       "      <td>10.518462</td>\n",
       "      <td>14.348020</td>\n",
       "      <td>29.877632</td>\n",
       "    </tr>\n",
       "    <tr>\n",
       "      <th>min</th>\n",
       "      <td>1.000000</td>\n",
       "      <td>10.000000</td>\n",
       "      <td>127.000000</td>\n",
       "      <td>25.000000</td>\n",
       "      <td>1896.000000</td>\n",
       "    </tr>\n",
       "    <tr>\n",
       "      <th>25%</th>\n",
       "      <td>34643.000000</td>\n",
       "      <td>21.000000</td>\n",
       "      <td>168.000000</td>\n",
       "      <td>60.000000</td>\n",
       "      <td>1960.000000</td>\n",
       "    </tr>\n",
       "    <tr>\n",
       "      <th>50%</th>\n",
       "      <td>68205.000000</td>\n",
       "      <td>24.000000</td>\n",
       "      <td>175.000000</td>\n",
       "      <td>70.000000</td>\n",
       "      <td>1988.000000</td>\n",
       "    </tr>\n",
       "    <tr>\n",
       "      <th>75%</th>\n",
       "      <td>102097.250000</td>\n",
       "      <td>28.000000</td>\n",
       "      <td>183.000000</td>\n",
       "      <td>79.000000</td>\n",
       "      <td>2002.000000</td>\n",
       "    </tr>\n",
       "    <tr>\n",
       "      <th>max</th>\n",
       "      <td>135571.000000</td>\n",
       "      <td>97.000000</td>\n",
       "      <td>226.000000</td>\n",
       "      <td>214.000000</td>\n",
       "      <td>2016.000000</td>\n",
       "    </tr>\n",
       "  </tbody>\n",
       "</table>\n",
       "</div>"
      ],
      "text/plain": [
       "                  ID            Age         Height         Weight  \\\n",
       "count  271116.000000  261642.000000  210945.000000  208241.000000   \n",
       "mean    68248.954396      25.556898     175.338970      70.702393   \n",
       "std     39022.286345       6.393561      10.518462      14.348020   \n",
       "min         1.000000      10.000000     127.000000      25.000000   \n",
       "25%     34643.000000      21.000000     168.000000      60.000000   \n",
       "50%     68205.000000      24.000000     175.000000      70.000000   \n",
       "75%    102097.250000      28.000000     183.000000      79.000000   \n",
       "max    135571.000000      97.000000     226.000000     214.000000   \n",
       "\n",
       "                Year  \n",
       "count  271116.000000  \n",
       "mean     1978.378480  \n",
       "std        29.877632  \n",
       "min      1896.000000  \n",
       "25%      1960.000000  \n",
       "50%      1988.000000  \n",
       "75%      2002.000000  \n",
       "max      2016.000000  "
      ]
     },
     "execution_count": 2,
     "metadata": {},
     "output_type": "execute_result"
    }
   ],
   "source": [
    "df.describe()"
   ]
  },
  {
   "cell_type": "code",
   "execution_count": null,
   "metadata": {},
   "outputs": [
    {
     "name": "stdout",
     "output_type": "stream",
     "text": [
      "<class 'pandas.core.frame.DataFrame'>\n",
      "RangeIndex: 271116 entries, 0 to 271115\n",
      "Data columns (total 15 columns):\n",
      " #   Column  Non-Null Count   Dtype  \n",
      "---  ------  --------------   -----  \n",
      " 0   ID      271116 non-null  int64  \n",
      " 1   Name    271116 non-null  object \n",
      " 2   Sex     271116 non-null  object \n",
      " 3   Age     261642 non-null  float64\n",
      " 4   Height  210945 non-null  float64\n",
      " 5   Weight  208241 non-null  float64\n",
      " 6   Team    271116 non-null  object \n",
      " 7   NOC     271116 non-null  object \n",
      " 8   Games   271116 non-null  object \n",
      " 9   Year    271116 non-null  int64  \n",
      " 10  Season  271116 non-null  object \n",
      " 11  City    271116 non-null  object \n",
      " 12  Sport   271116 non-null  object \n",
      " 13  Event   271116 non-null  object \n",
      " 14  Medal   39783 non-null   object \n",
      "dtypes: float64(3), int64(2), object(10)\n",
      "memory usage: 31.0+ MB\n"
     ]
    }
   ],
   "source": [
    "df.info()"
   ]
  },
  {
   "cell_type": "code",
   "execution_count": null,
   "metadata": {},
   "outputs": [
    {
     "data": {
      "text/plain": [
       "<AxesSubplot:xlabel='Age', ylabel='Count'>"
      ]
     },
     "execution_count": 4,
     "metadata": {},
     "output_type": "execute_result"
    },
    {
     "data": {
      "image/png": "[encoded data removed]",
      "text/plain": [
       "<Figure size 432x288 with 1 Axes>"
      ]
     },
     "metadata": {
      "needs_background": "light"
     },
     "output_type": "display_data"
    }
   ],
   "source": [
    "sns.histplot(data=df[\"Age\"], kde=True, bins=40)"
   ]
  },
  {
   "cell_type": "code",
   "execution_count": null,
   "metadata": {},
   "outputs": [
    {
     "data": {
      "text/plain": [
       "97.0"
      ]
     },
     "execution_count": 5,
     "metadata": {},
     "output_type": "execute_result"
    }
   ],
   "source": [
    "# oldest person in OS\n",
    "df[\"Age\"].max()"
   ]
  },
  {
   "cell_type": "code",
   "execution_count": null,
   "metadata": {},
   "outputs": [
    {
     "data": {
      "text/html": [
       "<div>\n",
       "<style scoped>\n",
       "    .dataframe tbody tr th:only-of-type {\n",
       "        vertical-align: middle;\n",
       "    }\n",
       "\n",
       "    .dataframe tbody tr th {\n",
       "        vertical-align: top;\n",
       "    }\n",
       "\n",
       "    .dataframe thead th {\n",
       "        text-align: right;\n",
       "    }\n",
       "</style>\n",
       "<table border=\"1\" class=\"dataframe\">\n",
       "  <thead>\n",
       "    <tr style=\"text-align: right;\">\n",
       "      <th></th>\n",
       "      <th>ID</th>\n",
       "      <th>Name</th>\n",
       "      <th>Sex</th>\n",
       "      <th>Age</th>\n",
       "      <th>Height</th>\n",
       "      <th>Weight</th>\n",
       "      <th>Team</th>\n",
       "      <th>NOC</th>\n",
       "      <th>Games</th>\n",
       "      <th>Year</th>\n",
       "      <th>Season</th>\n",
       "      <th>City</th>\n",
       "      <th>Sport</th>\n",
       "      <th>Event</th>\n",
       "      <th>Medal</th>\n",
       "    </tr>\n",
       "  </thead>\n",
       "  <tbody>\n",
       "    <tr>\n",
       "      <th>257054</th>\n",
       "      <td>128719</td>\n",
       "      <td>John Quincy Adams Ward</td>\n",
       "      <td>M</td>\n",
       "      <td>97.0</td>\n",
       "      <td>NaN</td>\n",
       "      <td>NaN</td>\n",
       "      <td>United States</td>\n",
       "      <td>USA</td>\n",
       "      <td>1928 Summer</td>\n",
       "      <td>1928</td>\n",
       "      <td>Summer</td>\n",
       "      <td>Amsterdam</td>\n",
       "      <td>Art Competitions</td>\n",
       "      <td>Art Competitions Mixed Sculpturing, Statues</td>\n",
       "      <td>NaN</td>\n",
       "    </tr>\n",
       "  </tbody>\n",
       "</table>\n",
       "</div>"
      ],
      "text/plain": [
       "            ID                    Name Sex   Age  Height  Weight  \\\n",
       "257054  128719  John Quincy Adams Ward   M  97.0     NaN     NaN   \n",
       "\n",
       "                 Team  NOC        Games  Year  Season       City  \\\n",
       "257054  United States  USA  1928 Summer  1928  Summer  Amsterdam   \n",
       "\n",
       "                   Sport                                        Event Medal  \n",
       "257054  Art Competitions  Art Competitions Mixed Sculpturing, Statues   NaN  "
      ]
     },
     "execution_count": 6,
     "metadata": {},
     "output_type": "execute_result"
    }
   ],
   "source": [
    "df[df[\"Age\"] == 97]"
   ]
  },
  {
   "cell_type": "code",
   "execution_count": null,
   "metadata": {},
   "outputs": [
    {
     "data": {
      "text/plain": [
       "array(['Basketball', 'Judo', 'Football', 'Tug-Of-War', 'Speed Skating',\n",
       "       'Cross Country Skiing', 'Athletics', 'Ice Hockey', 'Swimming',\n",
       "       'Badminton', 'Sailing', 'Biathlon', 'Gymnastics',\n",
       "       'Art Competitions', 'Alpine Skiing', 'Handball', 'Weightlifting',\n",
       "       'Wrestling', 'Luge', 'Water Polo', 'Hockey', 'Rowing', 'Bobsleigh',\n",
       "       'Fencing', 'Equestrianism', 'Shooting', 'Boxing', 'Taekwondo',\n",
       "       'Cycling', 'Diving', 'Canoeing', 'Tennis', 'Modern Pentathlon',\n",
       "       'Figure Skating', 'Golf', 'Softball', 'Archery', 'Volleyball',\n",
       "       'Synchronized Swimming', 'Table Tennis', 'Nordic Combined',\n",
       "       'Baseball', 'Rhythmic Gymnastics', 'Freestyle Skiing',\n",
       "       'Rugby Sevens', 'Trampolining', 'Beach Volleyball', 'Triathlon',\n",
       "       'Ski Jumping', 'Curling', 'Snowboarding', 'Rugby',\n",
       "       'Short Track Speed Skating', 'Skeleton', 'Lacrosse', 'Polo',\n",
       "       'Cricket', 'Racquets', 'Motorboating', 'Military Ski Patrol',\n",
       "       'Croquet', 'Jeu De Paume', 'Roque', 'Alpinism', 'Basque Pelota',\n",
       "       'Aeronautics'], dtype=object)"
      ]
     },
     "execution_count": 7,
     "metadata": {},
     "output_type": "execute_result"
    }
   ],
   "source": [
    "df.Sport.unique()"
   ]
  },
  {
   "cell_type": "code",
   "execution_count": null,
   "metadata": {},
   "outputs": [
    {
     "data": {
      "application/vnd.plotly.v1+json": {
       "config": {
        "plotlyServerURL": "https://plot.ly"
       },
       "data": [
        {
         "domain": {
          "x": [
           0,
           1
          ],
          "y": [
           0,
           1
          ]
         },
         "hovertemplate": "index=%{label}<br>NOC=%{value}<extra></extra>",
         "labels": [
          "CHN",
          "KOR",
          "SWE"
         ],
         "legendgroup": "",
         "name": "",
         "showlegend": true,
         "type": "pie",
         "values": [
          49,
          4,
          1
         ]
        }
       ],
       "layout": {
        "legend": {
         "tracegroupgap": 0
        },
        "template": {
         "data": {
          "bar": [
           {
            "error_x": {
             "color": "#2a3f5f"
            },
            "error_y": {
             "color": "#2a3f5f"
            },
            "marker": {
             "line": {
              "color": "#E5ECF6",
              "width": 0.5
             },
             "pattern": {
              "fillmode": "overlay",
              "size": 10,
              "solidity": 0.2
             }
            },
            "type": "bar"
           }
          ],
          "barpolar": [
           {
            "marker": {
             "line": {
              "color": "#E5ECF6",
              "width": 0.5
             },
             "pattern": {
              "fillmode": "overlay",
              "size": 10,
              "solidity": 0.2
             }
            },
            "type": "barpolar"
           }
          ],
          "carpet": [
           {
            "aaxis": {
             "endlinecolor": "#2a3f5f",
             "gridcolor": "white",
             "linecolor": "white",
             "minorgridcolor": "white",
             "startlinecolor": "#2a3f5f"
            },
            "baxis": {
             "endlinecolor": "#2a3f5f",
             "gridcolor": "white",
             "linecolor": "white",
             "minorgridcolor": "white",
             "startlinecolor": "#2a3f5f"
            },
            "type": "carpet"
           }
          ],
          "choropleth": [
           {
            "colorbar": {
             "outlinewidth": 0,
             "ticks": ""
            },
            "type": "choropleth"
           }
          ],
          "contour": [
           {
            "colorbar": {
             "outlinewidth": 0,
             "ticks": ""
            },
            "colorscale": [
             [
              0,
              "#0d0887"
             ],
             [
              0.1111111111111111,
              "#46039f"
             ],
             [
              0.2222222222222222,
              "#7201a8"
             ],
             [
              0.3333333333333333,
              "#9c179e"
             ],
             [
              0.4444444444444444,
              "#bd3786"
             ],
             [
              0.5555555555555556,
              "#d8576b"
             ],
             [
              0.6666666666666666,
              "#ed7953"
             ],
             [
              0.7777777777777778,
              "#fb9f3a"
             ],
             [
              0.8888888888888888,
              "#fdca26"
             ],
             [
              1,
              "#f0f921"
             ]
            ],
            "type": "contour"
           }
          ],
          "contourcarpet": [
           {
            "colorbar": {
             "outlinewidth": 0,
             "ticks": ""
            },
            "type": "contourcarpet"
           }
          ],
          "heatmap": [
           {
            "colorbar": {
             "outlinewidth": 0,
             "ticks": ""
            },
            "colorscale": [
             [
              0,
              "#0d0887"
             ],
             [
              0.1111111111111111,
              "#46039f"
             ],
             [
              0.2222222222222222,
              "#7201a8"
             ],
             [
              0.3333333333333333,
              "#9c179e"
             ],
             [
              0.4444444444444444,
              "#bd3786"
             ],
             [
              0.5555555555555556,
              "#d8576b"
             ],
             [
              0.6666666666666666,
              "#ed7953"
             ],
             [
              0.7777777777777778,
              "#fb9f3a"
             ],
             [
              0.8888888888888888,
              "#fdca26"
             ],
             [
              1,
              "#f0f921"
             ]
            ],
            "type": "heatmap"
           }
          ],
          "heatmapgl": [
           {
            "colorbar": {
             "outlinewidth": 0,
             "ticks": ""
            },
            "colorscale": [
             [
              0,
              "#0d0887"
             ],
             [
              0.1111111111111111,
              "#46039f"
             ],
             [
              0.2222222222222222,
              "#7201a8"
             ],
             [
              0.3333333333333333,
              "#9c179e"
             ],
             [
              0.4444444444444444,
              "#bd3786"
             ],
             [
              0.5555555555555556,
              "#d8576b"
             ],
             [
              0.6666666666666666,
              "#ed7953"
             ],
             [
              0.7777777777777778,
              "#fb9f3a"
             ],
             [
              0.8888888888888888,
              "#fdca26"
             ],
             [
              1,
              "#f0f921"
             ]
            ],
            "type": "heatmapgl"
           }
          ],
          "histogram": [
           {
            "marker": {
             "pattern": {
              "fillmode": "overlay",
              "size": 10,
              "solidity": 0.2
             }
            },
            "type": "histogram"
           }
          ],
          "histogram2d": [
           {
            "colorbar": {
             "outlinewidth": 0,
             "ticks": ""
            },
            "colorscale": [
             [
              0,
              "#0d0887"
             ],
             [
              0.1111111111111111,
              "#46039f"
             ],
             [
              0.2222222222222222,
              "#7201a8"
             ],
             [
              0.3333333333333333,
              "#9c179e"
             ],
             [
              0.4444444444444444,
              "#bd3786"
             ],
             [
              0.5555555555555556,
              "#d8576b"
             ],
             [
              0.6666666666666666,
              "#ed7953"
             ],
             [
              0.7777777777777778,
              "#fb9f3a"
             ],
             [
              0.8888888888888888,
              "#fdca26"
             ],
             [
              1,
              "#f0f921"
             ]
            ],
            "type": "histogram2d"
           }
          ],
          "histogram2dcontour": [
           {
            "colorbar": {
             "outlinewidth": 0,
             "ticks": ""
            },
            "colorscale": [
             [
              0,
              "#0d0887"
             ],
             [
              0.1111111111111111,
              "#46039f"
             ],
             [
              0.2222222222222222,
              "#7201a8"
             ],
             [
              0.3333333333333333,
              "#9c179e"
             ],
             [
              0.4444444444444444,
              "#bd3786"
             ],
             [
              0.5555555555555556,
              "#d8576b"
             ],
             [
              0.6666666666666666,
              "#ed7953"
             ],
             [
              0.7777777777777778,
              "#fb9f3a"
             ],
             [
              0.8888888888888888,
              "#fdca26"
             ],
             [
              1,
              "#f0f921"
             ]
            ],
            "type": "histogram2dcontour"
           }
          ],
          "mesh3d": [
           {
            "colorbar": {
             "outlinewidth": 0,
             "ticks": ""
            },
            "type": "mesh3d"
           }
          ],
          "parcoords": [
           {
            "line": {
             "colorbar": {
              "outlinewidth": 0,
              "ticks": ""
             }
            },
            "type": "parcoords"
           }
          ],
          "pie": [
           {
            "automargin": true,
            "type": "pie"
           }
          ],
          "scatter": [
           {
            "marker": {
             "colorbar": {
              "outlinewidth": 0,
              "ticks": ""
             }
            },
            "type": "scatter"
           }
          ],
          "scatter3d": [
           {
            "line": {
             "colorbar": {
              "outlinewidth": 0,
              "ticks": ""
             }
            },
            "marker": {
             "colorbar": {
              "outlinewidth": 0,
              "ticks": ""
             }
            },
            "type": "scatter3d"
           }
          ],
          "scattercarpet": [
           {
            "marker": {
             "colorbar": {
              "outlinewidth": 0,
              "ticks": ""
             }
            },
            "type": "scattercarpet"
           }
          ],
          "scattergeo": [
           {
            "marker": {
             "colorbar": {
              "outlinewidth": 0,
              "ticks": ""
             }
            },
            "type": "scattergeo"
           }
          ],
          "scattergl": [
           {
            "marker": {
             "colorbar": {
              "outlinewidth": 0,
              "ticks": ""
             }
            },
            "type": "scattergl"
           }
          ],
          "scattermapbox": [
           {
            "marker": {
             "colorbar": {
              "outlinewidth": 0,
              "ticks": ""
             }
            },
            "type": "scattermapbox"
           }
          ],
          "scatterpolar": [
           {
            "marker": {
             "colorbar": {
              "outlinewidth": 0,
              "ticks": ""
             }
            },
            "type": "scatterpolar"
           }
          ],
          "scatterpolargl": [
           {
            "marker": {
             "colorbar": {
              "outlinewidth": 0,
              "ticks": ""
             }
            },
            "type": "scatterpolargl"
           }
          ],
          "scatterternary": [
           {
            "marker": {
             "colorbar": {
              "outlinewidth": 0,
              "ticks": ""
             }
            },
            "type": "scatterternary"
           }
          ],
          "surface": [
           {
            "colorbar": {
             "outlinewidth": 0,
             "ticks": ""
            },
            "colorscale": [
             [
              0,
              "#0d0887"
             ],
             [
              0.1111111111111111,
              "#46039f"
             ],
             [
              0.2222222222222222,
              "#7201a8"
             ],
             [
              0.3333333333333333,
              "#9c179e"
             ],
             [
              0.4444444444444444,
              "#bd3786"
             ],
             [
              0.5555555555555556,
              "#d8576b"
             ],
             [
              0.6666666666666666,
              "#ed7953"
             ],
             [
              0.7777777777777778,
              "#fb9f3a"
             ],
             [
              0.8888888888888888,
              "#fdca26"
             ],
             [
              1,
              "#f0f921"
             ]
            ],
            "type": "surface"
           }
          ],
          "table": [
           {
            "cells": {
             "fill": {
              "color": "#EBF0F8"
             },
             "line": {
              "color": "white"
             }
            },
            "header": {
             "fill": {
              "color": "#C8D4E3"
             },
             "line": {
              "color": "white"
             }
            },
            "type": "table"
           }
          ]
         },
         "layout": {
          "annotationdefaults": {
           "arrowcolor": "#2a3f5f",
           "arrowhead": 0,
           "arrowwidth": 1
          },
          "autotypenumbers": "strict",
          "coloraxis": {
           "colorbar": {
            "outlinewidth": 0,
            "ticks": ""
           }
          },
          "colorscale": {
           "diverging": [
            [
             0,
             "#8e0152"
            ],
            [
             0.1,
             "#c51b7d"
            ],
            [
             0.2,
             "#de77ae"
            ],
            [
             0.3,
             "#f1b6da"
            ],
            [
             0.4,
             "#fde0ef"
            ],
            [
             0.5,
             "#f7f7f7"
            ],
            [
             0.6,
             "#e6f5d0"
            ],
            [
             0.7,
             "#b8e186"
            ],
            [
             0.8,
             "#7fbc41"
            ],
            [
             0.9,
             "#4d9221"
            ],
            [
             1,
             "#276419"
            ]
           ],
           "sequential": [
            [
             0,
             "#0d0887"
            ],
            [
             0.1111111111111111,
             "#46039f"
            ],
            [
             0.2222222222222222,
             "#7201a8"
            ],
            [
             0.3333333333333333,
             "#9c179e"
            ],
            [
             0.4444444444444444,
             "#bd3786"
            ],
            [
             0.5555555555555556,
             "#d8576b"
            ],
            [
             0.6666666666666666,
             "#ed7953"
            ],
            [
             0.7777777777777778,
             "#fb9f3a"
            ],
            [
             0.8888888888888888,
             "#fdca26"
            ],
            [
             1,
             "#f0f921"
            ]
           ],
           "sequentialminus": [
            [
             0,
             "#0d0887"
            ],
            [
             0.1111111111111111,
             "#46039f"
            ],
            [
             0.2222222222222222,
             "#7201a8"
            ],
            [
             0.3333333333333333,
             "#9c179e"
            ],
            [
             0.4444444444444444,
             "#bd3786"
            ],
            [
             0.5555555555555556,
             "#d8576b"
            ],
            [
             0.6666666666666666,
             "#ed7953"
            ],
            [
             0.7777777777777778,
             "#fb9f3a"
            ],
            [
             0.8888888888888888,
             "#fdca26"
            ],
            [
             1,
             "#f0f921"
            ]
           ]
          },
          "colorway": [
           "#636efa",
           "#EF553B",
           "#00cc96",
           "#ab63fa",
           "#FFA15A",
           "#19d3f3",
           "#FF6692",
           "#B6E880",
           "#FF97FF",
           "#FECB52"
          ],
          "font": {
           "color": "#2a3f5f"
          },
          "geo": {
           "bgcolor": "white",
           "lakecolor": "white",
           "landcolor": "#E5ECF6",
           "showlakes": true,
           "showland": true,
           "subunitcolor": "white"
          },
          "hoverlabel": {
           "align": "left"
          },
          "hovermode": "closest",
          "mapbox": {
           "style": "light"
          },
          "paper_bgcolor": "white",
          "plot_bgcolor": "#E5ECF6",
          "polar": {
           "angularaxis": {
            "gridcolor": "white",
            "linecolor": "white",
            "ticks": ""
           },
           "bgcolor": "#E5ECF6",
           "radialaxis": {
            "gridcolor": "white",
            "linecolor": "white",
            "ticks": ""
           }
          },
          "scene": {
           "xaxis": {
            "backgroundcolor": "#E5ECF6",
            "gridcolor": "white",
            "gridwidth": 2,
            "linecolor": "white",
            "showbackground": true,
            "ticks": "",
            "zerolinecolor": "white"
           },
           "yaxis": {
            "backgroundcolor": "#E5ECF6",
            "gridcolor": "white",
            "gridwidth": 2,
            "linecolor": "white",
            "showbackground": true,
            "ticks": "",
            "zerolinecolor": "white"
           },
           "zaxis": {
            "backgroundcolor": "#E5ECF6",
            "gridcolor": "white",
            "gridwidth": 2,
            "linecolor": "white",
            "showbackground": true,
            "ticks": "",
            "zerolinecolor": "white"
           }
          },
          "shapedefaults": {
           "line": {
            "color": "#2a3f5f"
           }
          },
          "ternary": {
           "aaxis": {
            "gridcolor": "white",
            "linecolor": "white",
            "ticks": ""
           },
           "baxis": {
            "gridcolor": "white",
            "linecolor": "white",
            "ticks": ""
           },
           "bgcolor": "#E5ECF6",
           "caxis": {
            "gridcolor": "white",
            "linecolor": "white",
            "ticks": ""
           }
          },
          "title": {
           "x": 0.05
          },
          "xaxis": {
           "automargin": true,
           "gridcolor": "white",
           "linecolor": "white",
           "ticks": "",
           "title": {
            "standoff": 15
           },
           "zerolinecolor": "white",
           "zerolinewidth": 2
          },
          "yaxis": {
           "automargin": true,
           "gridcolor": "white",
           "linecolor": "white",
           "ticks": "",
           "title": {
            "standoff": 15
           },
           "zerolinecolor": "white",
           "zerolinewidth": 2
          }
         }
        },
        "title": {
         "text": "Pingis guld från 1896-2016"
        }
       }
      }
     },
     "metadata": {},
     "output_type": "display_data"
    }
   ],
   "source": [
    "import plotly.express as px \n",
    "table_tennis_gold = df[(df[\"Sport\"] == \"Table Tennis\") & (df[\"Medal\"]==\"Gold\")]\n",
    "table_tennis_gold_NOC = pd.DataFrame(table_tennis_gold[\"NOC\"].value_counts())\n",
    "px.pie(table_tennis_gold_NOC, values=\"NOC\", names=table_tennis_gold_NOC.index, title=\"Pingis guld från 1896-2016\") "
   ]
  },
  {
   "cell_type": "code",
   "execution_count": null,
   "metadata": {},
   "outputs": [
    {
     "data": {
      "text/html": [
       "<div>\n",
       "<style scoped>\n",
       "    .dataframe tbody tr th:only-of-type {\n",
       "        vertical-align: middle;\n",
       "    }\n",
       "\n",
       "    .dataframe tbody tr th {\n",
       "        vertical-align: top;\n",
       "    }\n",
       "\n",
       "    .dataframe thead th {\n",
       "        text-align: right;\n",
       "    }\n",
       "</style>\n",
       "<table border=\"1\" class=\"dataframe\">\n",
       "  <thead>\n",
       "    <tr style=\"text-align: right;\">\n",
       "      <th></th>\n",
       "      <th>ID</th>\n",
       "      <th>Name</th>\n",
       "      <th>Sex</th>\n",
       "      <th>Age</th>\n",
       "      <th>Height</th>\n",
       "      <th>Weight</th>\n",
       "      <th>Team</th>\n",
       "      <th>NOC</th>\n",
       "      <th>Games</th>\n",
       "      <th>Year</th>\n",
       "      <th>Season</th>\n",
       "      <th>City</th>\n",
       "      <th>Sport</th>\n",
       "      <th>Event</th>\n",
       "      <th>Medal</th>\n",
       "    </tr>\n",
       "  </thead>\n",
       "  <tbody>\n",
       "    <tr>\n",
       "      <th>255767</th>\n",
       "      <td>128051</td>\n",
       "      <td>Jan-Ove Waldner</td>\n",
       "      <td>M</td>\n",
       "      <td>26.0</td>\n",
       "      <td>179.0</td>\n",
       "      <td>76.0</td>\n",
       "      <td>Sweden</td>\n",
       "      <td>SWE</td>\n",
       "      <td>1992 Summer</td>\n",
       "      <td>1992</td>\n",
       "      <td>Summer</td>\n",
       "      <td>Barcelona</td>\n",
       "      <td>Table Tennis</td>\n",
       "      <td>Table Tennis Men's Singles</td>\n",
       "      <td>Gold</td>\n",
       "    </tr>\n",
       "  </tbody>\n",
       "</table>\n",
       "</div>"
      ],
      "text/plain": [
       "            ID             Name Sex   Age  Height  Weight    Team  NOC  \\\n",
       "255767  128051  Jan-Ove Waldner   M  26.0   179.0    76.0  Sweden  SWE   \n",
       "\n",
       "              Games  Year  Season       City         Sport  \\\n",
       "255767  1992 Summer  1992  Summer  Barcelona  Table Tennis   \n",
       "\n",
       "                             Event Medal  \n",
       "255767  Table Tennis Men's Singles  Gold  "
      ]
     },
     "execution_count": 9,
     "metadata": {},
     "output_type": "execute_result"
    }
   ],
   "source": [
    "df[(df[\"Sport\"] == \"Table Tennis\") & (df[\"NOC\"] == \"SWE\") & (df[\"Medal\"]==\"Gold\")]"
   ]
  },
  {
   "cell_type": "code",
   "execution_count": null,
   "metadata": {},
   "outputs": [
    {
     "data": {
      "text/html": [
       "<div>\n",
       "<style scoped>\n",
       "    .dataframe tbody tr th:only-of-type {\n",
       "        vertical-align: middle;\n",
       "    }\n",
       "\n",
       "    .dataframe tbody tr th {\n",
       "        vertical-align: top;\n",
       "    }\n",
       "\n",
       "    .dataframe thead th {\n",
       "        text-align: right;\n",
       "    }\n",
       "</style>\n",
       "<table border=\"1\" class=\"dataframe\">\n",
       "  <thead>\n",
       "    <tr style=\"text-align: right;\">\n",
       "      <th></th>\n",
       "      <th>ID</th>\n",
       "      <th>Name</th>\n",
       "      <th>Sex</th>\n",
       "      <th>Age</th>\n",
       "      <th>Height</th>\n",
       "      <th>Weight</th>\n",
       "      <th>Team</th>\n",
       "      <th>NOC</th>\n",
       "      <th>Games</th>\n",
       "      <th>Year</th>\n",
       "      <th>Season</th>\n",
       "      <th>City</th>\n",
       "      <th>Sport</th>\n",
       "      <th>Event</th>\n",
       "      <th>Medal</th>\n",
       "    </tr>\n",
       "  </thead>\n",
       "  <tbody>\n",
       "    <tr>\n",
       "      <th>1237</th>\n",
       "      <td>697</td>\n",
       "      <td>Fausto Alesio Acke (Padovini-)</td>\n",
       "      <td>M</td>\n",
       "      <td>22.0</td>\n",
       "      <td>NaN</td>\n",
       "      <td>NaN</td>\n",
       "      <td>Sweden</td>\n",
       "      <td>SWE</td>\n",
       "      <td>1920 Summer</td>\n",
       "      <td>1920</td>\n",
       "      <td>Summer</td>\n",
       "      <td>Antwerpen</td>\n",
       "      <td>Gymnastics</td>\n",
       "      <td>Gymnastics Men's Team All-Around, Swedish System</td>\n",
       "      <td>Gold</td>\n",
       "    </tr>\n",
       "    <tr>\n",
       "      <th>1755</th>\n",
       "      <td>974</td>\n",
       "      <td>Nils August Domingo Adlercreutz</td>\n",
       "      <td>M</td>\n",
       "      <td>45.0</td>\n",
       "      <td>NaN</td>\n",
       "      <td>NaN</td>\n",
       "      <td>Sweden</td>\n",
       "      <td>SWE</td>\n",
       "      <td>1912 Summer</td>\n",
       "      <td>1912</td>\n",
       "      <td>Summer</td>\n",
       "      <td>Stockholm</td>\n",
       "      <td>Equestrianism</td>\n",
       "      <td>Equestrianism Men's Three-Day Event, Team</td>\n",
       "      <td>Gold</td>\n",
       "    </tr>\n",
       "    <tr>\n",
       "      <th>1762</th>\n",
       "      <td>977</td>\n",
       "      <td>Erik William Adlerz</td>\n",
       "      <td>M</td>\n",
       "      <td>19.0</td>\n",
       "      <td>NaN</td>\n",
       "      <td>NaN</td>\n",
       "      <td>Sweden</td>\n",
       "      <td>SWE</td>\n",
       "      <td>1912 Summer</td>\n",
       "      <td>1912</td>\n",
       "      <td>Summer</td>\n",
       "      <td>Stockholm</td>\n",
       "      <td>Diving</td>\n",
       "      <td>Diving Men's Platform</td>\n",
       "      <td>Gold</td>\n",
       "    </tr>\n",
       "    <tr>\n",
       "      <th>1763</th>\n",
       "      <td>977</td>\n",
       "      <td>Erik William Adlerz</td>\n",
       "      <td>M</td>\n",
       "      <td>19.0</td>\n",
       "      <td>NaN</td>\n",
       "      <td>NaN</td>\n",
       "      <td>Sweden</td>\n",
       "      <td>SWE</td>\n",
       "      <td>1912 Summer</td>\n",
       "      <td>1912</td>\n",
       "      <td>Summer</td>\n",
       "      <td>Stockholm</td>\n",
       "      <td>Diving</td>\n",
       "      <td>Diving Men's Plain High</td>\n",
       "      <td>Gold</td>\n",
       "    </tr>\n",
       "    <tr>\n",
       "      <th>2462</th>\n",
       "      <td>1378</td>\n",
       "      <td>Arne Per hman</td>\n",
       "      <td>M</td>\n",
       "      <td>23.0</td>\n",
       "      <td>176.0</td>\n",
       "      <td>64.0</td>\n",
       "      <td>Sweden</td>\n",
       "      <td>SWE</td>\n",
       "      <td>1948 Summer</td>\n",
       "      <td>1948</td>\n",
       "      <td>Summer</td>\n",
       "      <td>London</td>\n",
       "      <td>Athletics</td>\n",
       "      <td>Athletics Men's Triple Jump</td>\n",
       "      <td>Gold</td>\n",
       "    </tr>\n",
       "    <tr>\n",
       "      <th>...</th>\n",
       "      <td>...</td>\n",
       "      <td>...</td>\n",
       "      <td>...</td>\n",
       "      <td>...</td>\n",
       "      <td>...</td>\n",
       "      <td>...</td>\n",
       "      <td>...</td>\n",
       "      <td>...</td>\n",
       "      <td>...</td>\n",
       "      <td>...</td>\n",
       "      <td>...</td>\n",
       "      <td>...</td>\n",
       "      <td>...</td>\n",
       "      <td>...</td>\n",
       "      <td>...</td>\n",
       "    </tr>\n",
       "    <tr>\n",
       "      <th>260490</th>\n",
       "      <td>130357</td>\n",
       "      <td>Emma Christina Wikn</td>\n",
       "      <td>F</td>\n",
       "      <td>24.0</td>\n",
       "      <td>167.0</td>\n",
       "      <td>60.0</td>\n",
       "      <td>Sweden</td>\n",
       "      <td>SWE</td>\n",
       "      <td>2014 Winter</td>\n",
       "      <td>2014</td>\n",
       "      <td>Winter</td>\n",
       "      <td>Sochi</td>\n",
       "      <td>Cross Country Skiing</td>\n",
       "      <td>Cross Country Skiing Women's 4 x 5 kilometres ...</td>\n",
       "      <td>Gold</td>\n",
       "    </tr>\n",
       "    <tr>\n",
       "      <th>260493</th>\n",
       "      <td>130360</td>\n",
       "      <td>Elis Wiklund</td>\n",
       "      <td>M</td>\n",
       "      <td>26.0</td>\n",
       "      <td>185.0</td>\n",
       "      <td>80.0</td>\n",
       "      <td>Sweden</td>\n",
       "      <td>SWE</td>\n",
       "      <td>1936 Winter</td>\n",
       "      <td>1936</td>\n",
       "      <td>Winter</td>\n",
       "      <td>Garmisch-Partenkirchen</td>\n",
       "      <td>Cross Country Skiing</td>\n",
       "      <td>Cross Country Skiing Men's 50 kilometres</td>\n",
       "      <td>Gold</td>\n",
       "    </tr>\n",
       "    <tr>\n",
       "      <th>260516</th>\n",
       "      <td>130374</td>\n",
       "      <td>Leif Gordon Wikstrm</td>\n",
       "      <td>M</td>\n",
       "      <td>38.0</td>\n",
       "      <td>NaN</td>\n",
       "      <td>NaN</td>\n",
       "      <td>Slaghoken II</td>\n",
       "      <td>SWE</td>\n",
       "      <td>1956 Summer</td>\n",
       "      <td>1956</td>\n",
       "      <td>Summer</td>\n",
       "      <td>Melbourne</td>\n",
       "      <td>Sailing</td>\n",
       "      <td>Sailing Mixed Three Person Keelboat</td>\n",
       "      <td>Gold</td>\n",
       "    </tr>\n",
       "    <tr>\n",
       "      <th>261650</th>\n",
       "      <td>130925</td>\n",
       "      <td>David Lepold Wiman</td>\n",
       "      <td>M</td>\n",
       "      <td>27.0</td>\n",
       "      <td>NaN</td>\n",
       "      <td>NaN</td>\n",
       "      <td>Sweden</td>\n",
       "      <td>SWE</td>\n",
       "      <td>1912 Summer</td>\n",
       "      <td>1912</td>\n",
       "      <td>Summer</td>\n",
       "      <td>Stockholm</td>\n",
       "      <td>Gymnastics</td>\n",
       "      <td>Gymnastics Men's Team All-Around, Swedish System</td>\n",
       "      <td>Gold</td>\n",
       "    </tr>\n",
       "    <tr>\n",
       "      <th>268632</th>\n",
       "      <td>134391</td>\n",
       "      <td>Carl Henrik Zetterberg</td>\n",
       "      <td>M</td>\n",
       "      <td>25.0</td>\n",
       "      <td>183.0</td>\n",
       "      <td>86.0</td>\n",
       "      <td>Sweden</td>\n",
       "      <td>SWE</td>\n",
       "      <td>2006 Winter</td>\n",
       "      <td>2006</td>\n",
       "      <td>Winter</td>\n",
       "      <td>Torino</td>\n",
       "      <td>Ice Hockey</td>\n",
       "      <td>Ice Hockey Men's Ice Hockey</td>\n",
       "      <td>Gold</td>\n",
       "    </tr>\n",
       "  </tbody>\n",
       "</table>\n",
       "<p>479 rows × 15 columns</p>\n",
       "</div>"
      ],
      "text/plain": [
       "            ID                             Name Sex   Age  Height  Weight  \\\n",
       "1237       697   Fausto Alesio Acke (Padovini-)   M  22.0     NaN     NaN   \n",
       "1755       974  Nils August Domingo Adlercreutz   M  45.0     NaN     NaN   \n",
       "1762       977              Erik William Adlerz   M  19.0     NaN     NaN   \n",
       "1763       977              Erik William Adlerz   M  19.0     NaN     NaN   \n",
       "2462      1378                    Arne Per hman   M  23.0   176.0    64.0   \n",
       "...        ...                              ...  ..   ...     ...     ...   \n",
       "260490  130357              Emma Christina Wikn   F  24.0   167.0    60.0   \n",
       "260493  130360                     Elis Wiklund   M  26.0   185.0    80.0   \n",
       "260516  130374              Leif Gordon Wikstrm   M  38.0     NaN     NaN   \n",
       "261650  130925               David Lepold Wiman   M  27.0     NaN     NaN   \n",
       "268632  134391           Carl Henrik Zetterberg   M  25.0   183.0    86.0   \n",
       "\n",
       "                Team  NOC        Games  Year  Season                    City  \\\n",
       "1237          Sweden  SWE  1920 Summer  1920  Summer               Antwerpen   \n",
       "1755          Sweden  SWE  1912 Summer  1912  Summer               Stockholm   \n",
       "1762          Sweden  SWE  1912 Summer  1912  Summer               Stockholm   \n",
       "1763          Sweden  SWE  1912 Summer  1912  Summer               Stockholm   \n",
       "2462          Sweden  SWE  1948 Summer  1948  Summer                  London   \n",
       "...              ...  ...          ...   ...     ...                     ...   \n",
       "260490        Sweden  SWE  2014 Winter  2014  Winter                   Sochi   \n",
       "260493        Sweden  SWE  1936 Winter  1936  Winter  Garmisch-Partenkirchen   \n",
       "260516  Slaghoken II  SWE  1956 Summer  1956  Summer               Melbourne   \n",
       "261650        Sweden  SWE  1912 Summer  1912  Summer               Stockholm   \n",
       "268632        Sweden  SWE  2006 Winter  2006  Winter                  Torino   \n",
       "\n",
       "                       Sport  \\\n",
       "1237              Gymnastics   \n",
       "1755           Equestrianism   \n",
       "1762                  Diving   \n",
       "1763                  Diving   \n",
       "2462               Athletics   \n",
       "...                      ...   \n",
       "260490  Cross Country Skiing   \n",
       "260493  Cross Country Skiing   \n",
       "260516               Sailing   \n",
       "261650            Gymnastics   \n",
       "268632            Ice Hockey   \n",
       "\n",
       "                                                    Event Medal  \n",
       "1237     Gymnastics Men's Team All-Around, Swedish System  Gold  \n",
       "1755            Equestrianism Men's Three-Day Event, Team  Gold  \n",
       "1762                                Diving Men's Platform  Gold  \n",
       "1763                              Diving Men's Plain High  Gold  \n",
       "2462                          Athletics Men's Triple Jump  Gold  \n",
       "...                                                   ...   ...  \n",
       "260490  Cross Country Skiing Women's 4 x 5 kilometres ...  Gold  \n",
       "260493           Cross Country Skiing Men's 50 kilometres  Gold  \n",
       "260516                Sailing Mixed Three Person Keelboat  Gold  \n",
       "261650   Gymnastics Men's Team All-Around, Swedish System  Gold  \n",
       "268632                        Ice Hockey Men's Ice Hockey  Gold  \n",
       "\n",
       "[479 rows x 15 columns]"
      ]
     },
     "execution_count": 10,
     "metadata": {},
     "output_type": "execute_result"
    }
   ],
   "source": [
    "df[(df[\"Medal\"] == \"Gold\") & (df[\"NOC\"]==\"SWE\")]"
   ]
  },
  {
   "cell_type": "code",
   "execution_count": null,
   "metadata": {},
   "outputs": [
    {
     "name": "stdout",
     "output_type": "stream",
     "text": [
      "Sverige har hållit OS: [1912 1956]\n"
     ]
    },
    {
     "data": {
      "text/plain": [
       "array([\"Cortina d'Ampezzo\", 'Melbourne', 'Stockholm'], dtype=object)"
      ]
     },
     "execution_count": 11,
     "metadata": {},
     "output_type": "execute_result"
    }
   ],
   "source": [
    "print(f'Sverige har hållit OS: {df[df[\"City\"] == \"Stockholm\"][\"Year\"].unique()}')\n",
    "df[df[\"Year\"] == 1956][\"City\"].unique()"
   ]
  },
  {
   "cell_type": "code",
   "execution_count": null,
   "metadata": {},
   "outputs": [
    {
     "data": {
      "text/plain": [
       "Text(0.5, 0, 'Count')"
      ]
     },
     "execution_count": 12,
     "metadata": {},
     "output_type": "execute_result"
    },
    {
     "data": {
      "image/png": "[encoded data removed]",
      "text/plain": [
       "<Figure size 600x400 with 1 Axes>"
      ]
     },
     "metadata": {
      "needs_background": "light"
     },
     "output_type": "display_data"
    }
   ],
   "source": [
    "fig = plt.figure(dpi=100)\n",
    "\n",
    "swe_gold = df[(df[\"NOC\"] == \"SWE\") & (df[\"Medal\"] == \"Gold\")]\n",
    "swe_gold_sports = swe_gold[\"Sport\"].value_counts()\n",
    "fig = sns.barplot(y=swe_gold_sports.index, x=swe_gold_sports.values)\n",
    "fig.set_title(\"Svenska guldmedaljer i OS genom tiderna\")\n",
    "fig.set_xlabel(\"Count\")"
   ]
  },
  {
   "cell_type": "code",
   "execution_count": null,
   "metadata": {},
   "outputs": [
    {
     "data": {
      "image/png": "[encoded data removed]",
      "text/plain": [
       "<Figure size 432x288 with 1 Axes>"
      ]
     },
     "metadata": {
      "needs_background": "light"
     },
     "output_type": "display_data"
    }
   ],
   "source": [
    "swe_gold_gymnastic = swe_gold[swe_gold[\"Sport\"] == \"Gymnastics\"]\n",
    "fig = sns.histplot(swe_gold_gymnastic.Year, bins =70)\n",
    "fig.set_title(\"Svenska guld i gymnastik\");"
   ]
  },
  {
   "cell_type": "code",
   "execution_count": null,
   "metadata": {},
   "outputs": [
    {
     "name": "stderr",
     "output_type": "stream",
     "text": [
      "C:\\Users\\kokch\\.virtualenvs\\Databehandling--bsp-T9-\\lib\\site-packages\\seaborn\\distributions.py:316: UserWarning:\n",
      "\n",
      "Dataset has 0 variance; skipping density estimate. Pass `warn_singular=False` to disable this warning.\n",
      "\n"
     ]
    },
    {
     "data": {
      "text/html": [
       "<div>\n",
       "<style scoped>\n",
       "    .dataframe tbody tr th:only-of-type {\n",
       "        vertical-align: middle;\n",
       "    }\n",
       "\n",
       "    .dataframe tbody tr th {\n",
       "        vertical-align: top;\n",
       "    }\n",
       "\n",
       "    .dataframe thead th {\n",
       "        text-align: right;\n",
       "    }\n",
       "</style>\n",
       "<table border=\"1\" class=\"dataframe\">\n",
       "  <thead>\n",
       "    <tr style=\"text-align: right;\">\n",
       "      <th></th>\n",
       "      <th>Age</th>\n",
       "      <th>Sport</th>\n",
       "    </tr>\n",
       "  </thead>\n",
       "  <tbody>\n",
       "    <tr>\n",
       "      <th>0</th>\n",
       "      <td>24.0</td>\n",
       "      <td>Basketball</td>\n",
       "    </tr>\n",
       "    <tr>\n",
       "      <th>1</th>\n",
       "      <td>23.0</td>\n",
       "      <td>Judo</td>\n",
       "    </tr>\n",
       "    <tr>\n",
       "      <th>2</th>\n",
       "      <td>24.0</td>\n",
       "      <td>Football</td>\n",
       "    </tr>\n",
       "    <tr>\n",
       "      <th>3</th>\n",
       "      <td>34.0</td>\n",
       "      <td>Tug-Of-War</td>\n",
       "    </tr>\n",
       "    <tr>\n",
       "      <th>4</th>\n",
       "      <td>21.0</td>\n",
       "      <td>Speed Skating</td>\n",
       "    </tr>\n",
       "    <tr>\n",
       "      <th>...</th>\n",
       "      <td>...</td>\n",
       "      <td>...</td>\n",
       "    </tr>\n",
       "    <tr>\n",
       "      <th>271111</th>\n",
       "      <td>29.0</td>\n",
       "      <td>Luge</td>\n",
       "    </tr>\n",
       "    <tr>\n",
       "      <th>271112</th>\n",
       "      <td>27.0</td>\n",
       "      <td>Ski Jumping</td>\n",
       "    </tr>\n",
       "    <tr>\n",
       "      <th>271113</th>\n",
       "      <td>27.0</td>\n",
       "      <td>Ski Jumping</td>\n",
       "    </tr>\n",
       "    <tr>\n",
       "      <th>271114</th>\n",
       "      <td>30.0</td>\n",
       "      <td>Bobsleigh</td>\n",
       "    </tr>\n",
       "    <tr>\n",
       "      <th>271115</th>\n",
       "      <td>34.0</td>\n",
       "      <td>Bobsleigh</td>\n",
       "    </tr>\n",
       "  </tbody>\n",
       "</table>\n",
       "<p>271116 rows × 2 columns</p>\n",
       "</div>"
      ],
      "text/plain": [
       "         Age          Sport\n",
       "0       24.0     Basketball\n",
       "1       23.0           Judo\n",
       "2       24.0       Football\n",
       "3       34.0     Tug-Of-War\n",
       "4       21.0  Speed Skating\n",
       "...      ...            ...\n",
       "271111  29.0           Luge\n",
       "271112  27.0    Ski Jumping\n",
       "271113  27.0    Ski Jumping\n",
       "271114  30.0      Bobsleigh\n",
       "271115  34.0      Bobsleigh\n",
       "\n",
       "[271116 rows x 2 columns]"
      ]
     },
     "execution_count": 14,
     "metadata": {},
     "output_type": "execute_result"
    },
    {
     "data": {
      "image/png": "[encoded data removed]",
      "text/plain": [
       "<Figure size 432x288 with 1 Axes>"
      ]
     },
     "metadata": {
      "needs_background": "light"
     },
     "output_type": "display_data"
    }
   ],
   "source": [
    "# ålder och sport?\n",
    "age_sport = df[[\"Age\", \"Sport\"]]\n",
    "sns.kdeplot(data=age_sport, x=\"Age\", hue=\"Sport\")\n",
    "age_sport"
   ]
  },
  {
   "cell_type": "code",
   "execution_count": null,
   "metadata": {},
   "outputs": [
    {
     "name": "stdout",
     "output_type": "stream",
     "text": [
      "Antal sportgrupper: 66\n"
     ]
    },
    {
     "data": {
      "text/plain": [
       "array(['Basketball', 'Judo', 'Football', 'Tug-Of-War', 'Speed Skating',\n",
       "       'Cross Country Skiing', 'Athletics', 'Ice Hockey', 'Swimming',\n",
       "       'Badminton', 'Sailing', 'Biathlon', 'Gymnastics',\n",
       "       'Art Competitions', 'Alpine Skiing', 'Handball', 'Weightlifting',\n",
       "       'Wrestling', 'Luge', 'Water Polo', 'Hockey', 'Rowing', 'Bobsleigh',\n",
       "       'Fencing', 'Equestrianism', 'Shooting', 'Boxing', 'Taekwondo',\n",
       "       'Cycling', 'Diving', 'Canoeing', 'Tennis', 'Modern Pentathlon',\n",
       "       'Figure Skating', 'Golf', 'Softball', 'Archery', 'Volleyball',\n",
       "       'Synchronized Swimming', 'Table Tennis', 'Nordic Combined',\n",
       "       'Baseball', 'Rhythmic Gymnastics', 'Freestyle Skiing',\n",
       "       'Rugby Sevens', 'Trampolining', 'Beach Volleyball', 'Triathlon',\n",
       "       'Ski Jumping', 'Curling', 'Snowboarding', 'Rugby',\n",
       "       'Short Track Speed Skating', 'Skeleton', 'Lacrosse', 'Polo',\n",
       "       'Cricket', 'Racquets', 'Motorboating', 'Military Ski Patrol',\n",
       "       'Croquet', 'Jeu De Paume', 'Roque', 'Alpinism', 'Basque Pelota',\n",
       "       'Aeronautics'], dtype=object)"
      ]
     },
     "execution_count": 15,
     "metadata": {},
     "output_type": "execute_result"
    }
   ],
   "source": [
    "print(f'Antal sportgrupper: {len(age_sport[\"Sport\"].unique())}')\n",
    "age_sport[\"Sport\"].unique()"
   ]
  },
  {
   "cell_type": "code",
   "execution_count": null,
   "metadata": {},
   "outputs": [
    {
     "name": "stdout",
     "output_type": "stream",
     "text": [
      "Totalt antal länder som deltagit: 230\n"
     ]
    },
    {
     "data": {
      "text/plain": [
       "USA    5637\n",
       "URS    2503\n",
       "GER    2165\n",
       "GBR    2068\n",
       "FRA    1777\n",
       "ITA    1637\n",
       "SWE    1536\n",
       "CAN    1352\n",
       "AUS    1320\n",
       "RUS    1165\n",
       "HUN    1135\n",
       "NED    1040\n",
       "NOR    1033\n",
       "GDR    1005\n",
       "CHN     989\n",
       "JPN     913\n",
       "FIN     900\n",
       "Name: NOC, dtype: int64"
      ]
     },
     "execution_count": 16,
     "metadata": {},
     "output_type": "execute_result"
    }
   ],
   "source": [
    "# vilka länder har tagit medaljer\n",
    "print(f'Totalt antal länder som deltagit: {df[\"NOC\"].unique().shape[0]}')\n",
    "df[df.Medal.notnull()][\"NOC\"].value_counts()[:17]"
   ]
  },
  {
   "cell_type": "code",
   "execution_count": null,
   "metadata": {},
   "outputs": [
    {
     "data": {
      "text/html": [
       "<div>\n",
       "<style scoped>\n",
       "    .dataframe tbody tr th:only-of-type {\n",
       "        vertical-align: middle;\n",
       "    }\n",
       "\n",
       "    .dataframe tbody tr th {\n",
       "        vertical-align: top;\n",
       "    }\n",
       "\n",
       "    .dataframe thead th {\n",
       "        text-align: right;\n",
       "    }\n",
       "</style>\n",
       "<table border=\"1\" class=\"dataframe\">\n",
       "  <thead>\n",
       "    <tr style=\"text-align: right;\">\n",
       "      <th></th>\n",
       "      <th>ID</th>\n",
       "      <th>Name</th>\n",
       "      <th>Sex</th>\n",
       "      <th>Age</th>\n",
       "      <th>Height</th>\n",
       "      <th>Weight</th>\n",
       "      <th>Team</th>\n",
       "      <th>NOC</th>\n",
       "      <th>Games</th>\n",
       "      <th>Year</th>\n",
       "      <th>Season</th>\n",
       "      <th>City</th>\n",
       "      <th>Sport</th>\n",
       "      <th>Event</th>\n",
       "      <th>Medal</th>\n",
       "    </tr>\n",
       "  </thead>\n",
       "  <tbody>\n",
       "    <tr>\n",
       "      <th>142882</th>\n",
       "      <td>71691</td>\n",
       "      <td>Dimitrios Loundras</td>\n",
       "      <td>M</td>\n",
       "      <td>10.0</td>\n",
       "      <td>NaN</td>\n",
       "      <td>NaN</td>\n",
       "      <td>Ethnikos Gymnastikos Syllogos</td>\n",
       "      <td>GRE</td>\n",
       "      <td>1896 Summer</td>\n",
       "      <td>1896</td>\n",
       "      <td>Summer</td>\n",
       "      <td>Athina</td>\n",
       "      <td>Gymnastics</td>\n",
       "      <td>Gymnastics Men's Parallel Bars, Teams</td>\n",
       "      <td>Bronze</td>\n",
       "    </tr>\n",
       "  </tbody>\n",
       "</table>\n",
       "</div>"
      ],
      "text/plain": [
       "           ID                Name Sex   Age  Height  Weight  \\\n",
       "142882  71691  Dimitrios Loundras   M  10.0     NaN     NaN   \n",
       "\n",
       "                                 Team  NOC        Games  Year  Season    City  \\\n",
       "142882  Ethnikos Gymnastikos Syllogos  GRE  1896 Summer  1896  Summer  Athina   \n",
       "\n",
       "             Sport                                  Event   Medal  \n",
       "142882  Gymnastics  Gymnastics Men's Parallel Bars, Teams  Bronze  "
      ]
     },
     "execution_count": 17,
     "metadata": {},
     "output_type": "execute_result"
    }
   ],
   "source": [
    "df[df[\"Age\"]==10]       "
   ]
  },
  {
   "cell_type": "code",
   "execution_count": null,
   "metadata": {},
   "outputs": [
    {
     "data": {
      "image/png": "[encoded data removed]",
      "text/plain": [
       "<Figure size 1200x400 with 2 Axes>"
      ]
     },
     "metadata": {
      "needs_background": "light"
     },
     "output_type": "display_data"
    }
   ],
   "source": [
    "import numpy as np \n",
    "\n",
    "gymnastic = df[df[\"Sport\"] == \"Gymnastics\"]\n",
    "\n",
    "x = np.ones(len(gymnastic))\n",
    "fig, axes = plt.subplots(1,2,dpi=100, figsize=(12,4))\n",
    "sns.kdeplot(gymnastic[\"Age\"], ax=axes[0])\n",
    "axes[0].set_title(\"Åldersdistribution i gymnastik\")\n",
    "\n",
    "fig = sns.scatterplot(data=gymnastic, x=\"Year\", y=\"Age\", hue=\"Sex\", ax=axes[1])\n",
    "fig.plot([1896, 2016], [15, 15])\n",
    "fig.set_title(\"Gymnastikdeltagare i OS åldrar\");"
   ]
  },
  {
   "cell_type": "code",
   "execution_count": null,
   "metadata": {},
   "outputs": [
    {
     "data": {
      "text/plain": [
       "array([1948, 1948, 1948, ..., 1896, 1896, 1896], dtype=int64)"
      ]
     },
     "execution_count": 19,
     "metadata": {},
     "output_type": "execute_result"
    }
   ],
   "source": [
    "gymnastic.Year.values"
   ]
  },
  {
   "cell_type": "code",
   "execution_count": null,
   "metadata": {},
   "outputs": [],
   "source": [
    "# vilka länder har tagit flest guld?\n",
    "\n"
   ]
  },
  {
   "cell_type": "code",
   "execution_count": null,
   "metadata": {},
   "outputs": [
    {
     "data": {
      "text/plain": [
       "count    261642.000000\n",
       "mean         25.556898\n",
       "std           6.393561\n",
       "min          10.000000\n",
       "25%          21.000000\n",
       "50%          24.000000\n",
       "75%          28.000000\n",
       "max          97.000000\n",
       "Name: Age, dtype: float64"
      ]
     },
     "execution_count": 21,
     "metadata": {},
     "output_type": "execute_result"
    }
   ],
   "source": [
    "# ålderstatistik \n",
    "df.Age.describe()"
   ]
  },
  {
   "cell_type": "code",
   "execution_count": null,
   "metadata": {},
   "outputs": [],
   "source": [
    "import hashlib \n",
    "\n",
    "df.insert(1,\"Hashed names\", df[\"Name\"].apply(lambda x: hashlib.sha256(x.encode()).hexdigest()))"
   ]
  },
  {
   "cell_type": "code",
   "execution_count": null,
   "metadata": {},
   "outputs": [
    {
     "data": {
      "text/html": [
       "<div>\n",
       "<style scoped>\n",
       "    .dataframe tbody tr th:only-of-type {\n",
       "        vertical-align: middle;\n",
       "    }\n",
       "\n",
       "    .dataframe tbody tr th {\n",
       "        vertical-align: top;\n",
       "    }\n",
       "\n",
       "    .dataframe thead th {\n",
       "        text-align: right;\n",
       "    }\n",
       "</style>\n",
       "<table border=\"1\" class=\"dataframe\">\n",
       "  <thead>\n",
       "    <tr style=\"text-align: right;\">\n",
       "      <th></th>\n",
       "      <th>ID</th>\n",
       "      <th>Hashed names</th>\n",
       "      <th>Name</th>\n",
       "      <th>Sex</th>\n",
       "      <th>Age</th>\n",
       "      <th>Height</th>\n",
       "      <th>Weight</th>\n",
       "      <th>Team</th>\n",
       "      <th>NOC</th>\n",
       "      <th>Games</th>\n",
       "      <th>Year</th>\n",
       "      <th>Season</th>\n",
       "      <th>City</th>\n",
       "      <th>Sport</th>\n",
       "      <th>Event</th>\n",
       "      <th>Medal</th>\n",
       "    </tr>\n",
       "  </thead>\n",
       "  <tbody>\n",
       "    <tr>\n",
       "      <th>0</th>\n",
       "      <td>1</td>\n",
       "      <td>3a4eef48434c66b3f14ab0221f6762d0ef7c6135ab2790...</td>\n",
       "      <td>A Dijiang</td>\n",
       "      <td>M</td>\n",
       "      <td>24.0</td>\n",
       "      <td>180.0</td>\n",
       "      <td>80.0</td>\n",
       "      <td>China</td>\n",
       "      <td>CHN</td>\n",
       "      <td>1992 Summer</td>\n",
       "      <td>1992</td>\n",
       "      <td>Summer</td>\n",
       "      <td>Barcelona</td>\n",
       "      <td>Basketball</td>\n",
       "      <td>Basketball Men's Basketball</td>\n",
       "      <td>NaN</td>\n",
       "    </tr>\n",
       "    <tr>\n",
       "      <th>1</th>\n",
       "      <td>2</td>\n",
       "      <td>a6430cc6630934275dc6283f7e97e9625e6587cdddec7a...</td>\n",
       "      <td>A Lamusi</td>\n",
       "      <td>M</td>\n",
       "      <td>23.0</td>\n",
       "      <td>170.0</td>\n",
       "      <td>60.0</td>\n",
       "      <td>China</td>\n",
       "      <td>CHN</td>\n",
       "      <td>2012 Summer</td>\n",
       "      <td>2012</td>\n",
       "      <td>Summer</td>\n",
       "      <td>London</td>\n",
       "      <td>Judo</td>\n",
       "      <td>Judo Men's Extra-Lightweight</td>\n",
       "      <td>NaN</td>\n",
       "    </tr>\n",
       "    <tr>\n",
       "      <th>2</th>\n",
       "      <td>3</td>\n",
       "      <td>9c198b205332c2c8e1542e0f9534b9e270780a41d978ec...</td>\n",
       "      <td>Gunnar Nielsen Aaby</td>\n",
       "      <td>M</td>\n",
       "      <td>24.0</td>\n",
       "      <td>NaN</td>\n",
       "      <td>NaN</td>\n",
       "      <td>Denmark</td>\n",
       "      <td>DEN</td>\n",
       "      <td>1920 Summer</td>\n",
       "      <td>1920</td>\n",
       "      <td>Summer</td>\n",
       "      <td>Antwerpen</td>\n",
       "      <td>Football</td>\n",
       "      <td>Football Men's Football</td>\n",
       "      <td>NaN</td>\n",
       "    </tr>\n",
       "    <tr>\n",
       "      <th>3</th>\n",
       "      <td>4</td>\n",
       "      <td>0a477bb1c5ad39716f9c775e54d18d16aa8b37ada55548...</td>\n",
       "      <td>Edgar Lindenau Aabye</td>\n",
       "      <td>M</td>\n",
       "      <td>34.0</td>\n",
       "      <td>NaN</td>\n",
       "      <td>NaN</td>\n",
       "      <td>Denmark/Sweden</td>\n",
       "      <td>DEN</td>\n",
       "      <td>1900 Summer</td>\n",
       "      <td>1900</td>\n",
       "      <td>Summer</td>\n",
       "      <td>Paris</td>\n",
       "      <td>Tug-Of-War</td>\n",
       "      <td>Tug-Of-War Men's Tug-Of-War</td>\n",
       "      <td>Gold</td>\n",
       "    </tr>\n",
       "    <tr>\n",
       "      <th>4</th>\n",
       "      <td>5</td>\n",
       "      <td>5b7be356aa28178096dc6747f0b8e4e393eaceb5f95310...</td>\n",
       "      <td>Christine Jacoba Aaftink</td>\n",
       "      <td>F</td>\n",
       "      <td>21.0</td>\n",
       "      <td>185.0</td>\n",
       "      <td>82.0</td>\n",
       "      <td>Netherlands</td>\n",
       "      <td>NED</td>\n",
       "      <td>1988 Winter</td>\n",
       "      <td>1988</td>\n",
       "      <td>Winter</td>\n",
       "      <td>Calgary</td>\n",
       "      <td>Speed Skating</td>\n",
       "      <td>Speed Skating Women's 500 metres</td>\n",
       "      <td>NaN</td>\n",
       "    </tr>\n",
       "  </tbody>\n",
       "</table>\n",
       "</div>"
      ],
      "text/plain": [
       "   ID                                       Hashed names  \\\n",
       "0   1  3a4eef48434c66b3f14ab0221f6762d0ef7c6135ab2790...   \n",
       "1   2  a6430cc6630934275dc6283f7e97e9625e6587cdddec7a...   \n",
       "2   3  9c198b205332c2c8e1542e0f9534b9e270780a41d978ec...   \n",
       "3   4  0a477bb1c5ad39716f9c775e54d18d16aa8b37ada55548...   \n",
       "4   5  5b7be356aa28178096dc6747f0b8e4e393eaceb5f95310...   \n",
       "\n",
       "                       Name Sex   Age  Height  Weight            Team  NOC  \\\n",
       "0                 A Dijiang   M  24.0   180.0    80.0           China  CHN   \n",
       "1                  A Lamusi   M  23.0   170.0    60.0           China  CHN   \n",
       "2       Gunnar Nielsen Aaby   M  24.0     NaN     NaN         Denmark  DEN   \n",
       "3      Edgar Lindenau Aabye   M  34.0     NaN     NaN  Denmark/Sweden  DEN   \n",
       "4  Christine Jacoba Aaftink   F  21.0   185.0    82.0     Netherlands  NED   \n",
       "\n",
       "         Games  Year  Season       City          Sport  \\\n",
       "0  1992 Summer  1992  Summer  Barcelona     Basketball   \n",
       "1  2012 Summer  2012  Summer     London           Judo   \n",
       "2  1920 Summer  1920  Summer  Antwerpen       Football   \n",
       "3  1900 Summer  1900  Summer      Paris     Tug-Of-War   \n",
       "4  1988 Winter  1988  Winter    Calgary  Speed Skating   \n",
       "\n",
       "                              Event Medal  \n",
       "0       Basketball Men's Basketball   NaN  \n",
       "1      Judo Men's Extra-Lightweight   NaN  \n",
       "2           Football Men's Football   NaN  \n",
       "3       Tug-Of-War Men's Tug-Of-War  Gold  \n",
       "4  Speed Skating Women's 500 metres   NaN  "
      ]
     },
     "execution_count": 28,
     "metadata": {},
     "output_type": "execute_result"
    }
   ],
   "source": [
    "df.head()"
   ]
  },
  {
   "cell_type": "code",
   "execution_count": null,
   "metadata": {},
   "outputs": [
    {
     "data": {
      "text/html": [
       "<div>\n",
       "<style scoped>\n",
       "    .dataframe tbody tr th:only-of-type {\n",
       "        vertical-align: middle;\n",
       "    }\n",
       "\n",
       "    .dataframe tbody tr th {\n",
       "        vertical-align: top;\n",
       "    }\n",
       "\n",
       "    .dataframe thead th {\n",
       "        text-align: right;\n",
       "    }\n",
       "</style>\n",
       "<table border=\"1\" class=\"dataframe\">\n",
       "  <thead>\n",
       "    <tr style=\"text-align: right;\">\n",
       "      <th></th>\n",
       "      <th>ID</th>\n",
       "      <th>Hashed names</th>\n",
       "      <th>Name</th>\n",
       "      <th>Sex</th>\n",
       "      <th>Age</th>\n",
       "      <th>Height</th>\n",
       "      <th>Weight</th>\n",
       "      <th>Team</th>\n",
       "      <th>NOC</th>\n",
       "      <th>Games</th>\n",
       "      <th>Year</th>\n",
       "      <th>Season</th>\n",
       "      <th>City</th>\n",
       "      <th>Sport</th>\n",
       "      <th>Event</th>\n",
       "      <th>Medal</th>\n",
       "    </tr>\n",
       "  </thead>\n",
       "  <tbody>\n",
       "    <tr>\n",
       "      <th>0</th>\n",
       "      <td>6b86b273ff34fce19d6b804eff5a3f5747ada4eaa22f1d...</td>\n",
       "      <td>1835f69bd6b0b9e81fb90daa6ba36bc6a263e8b6852ca7...</td>\n",
       "      <td>3a4eef48434c66b3f14ab0221f6762d0ef7c6135ab2790...</td>\n",
       "      <td>08f271887ce94707da822d5263bae19d5519cb3614e0da...</td>\n",
       "      <td>dce81cca484053ef71096b308cb234b77b4ff19b507b7e...</td>\n",
       "      <td>9598d1edef9a37c9d4a9ff783906af30933a1bdac58ec5...</td>\n",
       "      <td>5afc581cc9ea399a2b1fa46aef3df4bea99fdbcf962851...</td>\n",
       "      <td>10436829032f361a3de50048de41755140e581467bc189...</td>\n",
       "      <td>bbfd32d8e72a9062a10c25a239a8694c130f6d23af05b1...</td>\n",
       "      <td>935a0140dd9743d6057986dc936730481713dcffd3b9d3...</td>\n",
       "      <td>3f83e9ad5be63bd5bf2fd009fffe6b7dd4066243975bc9...</td>\n",
       "      <td>c0de243c407c0e98ed0364e1d0c636d542318867862aac...</td>\n",
       "      <td>062dda15f8838576019a50b01bdf29cc5046008bbfcfaa...</td>\n",
       "      <td>3530d1806b6a3b4f1ea1084024cf3cb58b51a6a5b2fddf...</td>\n",
       "      <td>ab317391a79a5fc5b796c101f6e2799d58747323fe7f0d...</td>\n",
       "      <td>9b2d5b4678781e53038e91ea5324530a03f27dc1d0e5f6...</td>\n",
       "    </tr>\n",
       "    <tr>\n",
       "      <th>1</th>\n",
       "      <td>d4735e3a265e16eee03f59718b9b5d03019c07d8b6c51f...</td>\n",
       "      <td>36b954be919c253ff4fe04cbbb88521be1c8ccb8db6f9c...</td>\n",
       "      <td>a6430cc6630934275dc6283f7e97e9625e6587cdddec7a...</td>\n",
       "      <td>08f271887ce94707da822d5263bae19d5519cb3614e0da...</td>\n",
       "      <td>c22cd1ea7268eed0a17f08b05559b6f7939040cf707d5a...</td>\n",
       "      <td>fd91ce9f7f9b8567eb93faebc7c89f33306d3600eb3d1d...</td>\n",
       "      <td>db58b6c40698d7371bbcff35d085e1bac5fa439d0de31e...</td>\n",
       "      <td>10436829032f361a3de50048de41755140e581467bc189...</td>\n",
       "      <td>bbfd32d8e72a9062a10c25a239a8694c130f6d23af05b1...</td>\n",
       "      <td>3457ff59a3401c08d7294566ba0516e77f1c500a263b7e...</td>\n",
       "      <td>4b9a7f50c0bb198c6f5414c5a8459f5d216d34ab521ea9...</td>\n",
       "      <td>c0de243c407c0e98ed0364e1d0c636d542318867862aac...</td>\n",
       "      <td>ecc0e7dc084f141b29479058967d0bc07dee25d9690a98...</td>\n",
       "      <td>1ff4e85c7aaecae083a23f64600497d89a101e5c1eb455...</td>\n",
       "      <td>8f267d45eecb8270e5eb9c39e6fc78e3a140e15c9558f6...</td>\n",
       "      <td>9b2d5b4678781e53038e91ea5324530a03f27dc1d0e5f6...</td>\n",
       "    </tr>\n",
       "    <tr>\n",
       "      <th>2</th>\n",
       "      <td>4e07408562bedb8b60ce05c1decfe3ad16b72230967de0...</td>\n",
       "      <td>6610aa9ce7fef46a06484058428e89fe73976bfe079359...</td>\n",
       "      <td>9c198b205332c2c8e1542e0f9534b9e270780a41d978ec...</td>\n",
       "      <td>08f271887ce94707da822d5263bae19d5519cb3614e0da...</td>\n",
       "      <td>dce81cca484053ef71096b308cb234b77b4ff19b507b7e...</td>\n",
       "      <td>9b2d5b4678781e53038e91ea5324530a03f27dc1d0e5f6...</td>\n",
       "      <td>9b2d5b4678781e53038e91ea5324530a03f27dc1d0e5f6...</td>\n",
       "      <td>c527097577600a6726de99bd6f555fbfaf214da9b7d127...</td>\n",
       "      <td>2fcc32efa12bc6f248a98584b1e110f682b56f0b801547...</td>\n",
       "      <td>a7e84e307ea4bc59d1498302a3a14baf6e42520726cd3a...</td>\n",
       "      <td>6b5f40c09215713a1fa83ea2de2adcae17e605b8958a2d...</td>\n",
       "      <td>c0de243c407c0e98ed0364e1d0c636d542318867862aac...</td>\n",
       "      <td>d76bbf28ac60c2c8840295033f991a8085745713d9a910...</td>\n",
       "      <td>cbe1b7d7f446e134f78cefe973dfbbde9969b81e541853...</td>\n",
       "      <td>1d0ab0043e4c9abac287ecc5409de6e4b6e255791a8091...</td>\n",
       "      <td>9b2d5b4678781e53038e91ea5324530a03f27dc1d0e5f6...</td>\n",
       "    </tr>\n",
       "    <tr>\n",
       "      <th>3</th>\n",
       "      <td>4b227777d4dd1fc61c6f884f48641d02b4d121d3fd328c...</td>\n",
       "      <td>7ceee5184ccd7b08b756b8f578d4d08cdc7e833e13a0d9...</td>\n",
       "      <td>0a477bb1c5ad39716f9c775e54d18d16aa8b37ada55548...</td>\n",
       "      <td>08f271887ce94707da822d5263bae19d5519cb3614e0da...</td>\n",
       "      <td>1436c71c3bc18cb9ff43acdb59f3c6de30a069675bab73...</td>\n",
       "      <td>9b2d5b4678781e53038e91ea5324530a03f27dc1d0e5f6...</td>\n",
       "      <td>9b2d5b4678781e53038e91ea5324530a03f27dc1d0e5f6...</td>\n",
       "      <td>3defe2605f984f45198db4a5e18140314cbfa4e8916db0...</td>\n",
       "      <td>2fcc32efa12bc6f248a98584b1e110f682b56f0b801547...</td>\n",
       "      <td>04e7a6dd7d2442eda831918d527e98fe01fa5ba17248c3...</td>\n",
       "      <td>e41d64db5703c6440b5c714d57251a845bc0bd241480b4...</td>\n",
       "      <td>c0de243c407c0e98ed0364e1d0c636d542318867862aac...</td>\n",
       "      <td>5dd272b4f316b776a7b8e3d0894b37e1e42be3d5d3b204...</td>\n",
       "      <td>610cb9b21b317ee940e0c677a4dcbe43d230291fbe6da1...</td>\n",
       "      <td>946a52420808bc02704adb04879913bcf20ee09f2616e4...</td>\n",
       "      <td>6249df4367d0a2e088c8eb1117ef59430f0d7dad4bf0fc...</td>\n",
       "    </tr>\n",
       "    <tr>\n",
       "      <th>4</th>\n",
       "      <td>ef2d127de37b942baad06145e54b0c619a1f22327b2ebb...</td>\n",
       "      <td>d5521f815bc50199449f6f50ff7adffa2213871b76696c...</td>\n",
       "      <td>5b7be356aa28178096dc6747f0b8e4e393eaceb5f95310...</td>\n",
       "      <td>f67ab10ad4e4c53121b6a5fe4da9c10ddee905b978d378...</td>\n",
       "      <td>e4658389f3e9af055d9d349c5e68122e26dbce056fe0da...</td>\n",
       "      <td>0730ee8b219beb819f26af85b440a976ef77bbe517be3f...</td>\n",
       "      <td>3311663049fc19e9f878bd6e05ed36e8efcb8f58b802be...</td>\n",
       "      <td>3a386c13d283dc2ebbe2aeffc1ab3930d086b28956930d...</td>\n",
       "      <td>9ea4e3b85e324650a1ab403ad96abe96205360a1e84550...</td>\n",
       "      <td>6ea41bf6cc85d4736c0b5e0ab5d43c73d2e636d45c1ba4...</td>\n",
       "      <td>8266498d969081c29737b8daeb5b51d60e56d008fff243...</td>\n",
       "      <td>1b17869e03ecc1b0f86b003c199606eb68eaceb18927e3...</td>\n",
       "      <td>4dcbd74fcbd08192a287425acff97cfc3c8cf3dd46486d...</td>\n",
       "      <td>b208000794758e57c41ba9d6a3a392361ece503e67cd25...</td>\n",
       "      <td>b71da9b86489b5874eb4f78f3bb6c23731e715506f4673...</td>\n",
       "      <td>9b2d5b4678781e53038e91ea5324530a03f27dc1d0e5f6...</td>\n",
       "    </tr>\n",
       "    <tr>\n",
       "      <th>...</th>\n",
       "      <td>...</td>\n",
       "      <td>...</td>\n",
       "      <td>...</td>\n",
       "      <td>...</td>\n",
       "      <td>...</td>\n",
       "      <td>...</td>\n",
       "      <td>...</td>\n",
       "      <td>...</td>\n",
       "      <td>...</td>\n",
       "      <td>...</td>\n",
       "      <td>...</td>\n",
       "      <td>...</td>\n",
       "      <td>...</td>\n",
       "      <td>...</td>\n",
       "      <td>...</td>\n",
       "      <td>...</td>\n",
       "    </tr>\n",
       "    <tr>\n",
       "      <th>271111</th>\n",
       "      <td>2d1471883588e887533699ba812e58040232f3889b8315...</td>\n",
       "      <td>1c47d2b9a12b1b486f08d4796e0b466d945edb44683919...</td>\n",
       "      <td>07f491e055f56a7a7be133c9cf6563c253d3aa0d137630...</td>\n",
       "      <td>08f271887ce94707da822d5263bae19d5519cb3614e0da...</td>\n",
       "      <td>4918d4e05218ac860241eaa4933422bbcda72bd6dde1b9...</td>\n",
       "      <td>b1597a9b7e2ccaf0ebe2ac64d8ca5f9b55900c0570a581...</td>\n",
       "      <td>b35c70042fb78628e2d0e90b95b9179cb1294ca5c5dbc6...</td>\n",
       "      <td>d0f935dbb98bb1cd41a1e80374140d5968a43266c9adc8...</td>\n",
       "      <td>df004f89b82e934f4406166633eb25766799d21bf5cbfa...</td>\n",
       "      <td>c44e029078f95323e701a86fceef2635bb8de0957f79ac...</td>\n",
       "      <td>4c3aada37cf7fd3819b2da502a15f78f7ce5a2ce6d584b...</td>\n",
       "      <td>1b17869e03ecc1b0f86b003c199606eb68eaceb18927e3...</td>\n",
       "      <td>89e3910dd669d542e15b3fd066a896e38a4fd9edafb734...</td>\n",
       "      <td>19287be4f13291bd47806b6d3923aa00628afb8a7f463a...</td>\n",
       "      <td>5ec6d7b5174bf199f60e2828bef296fa1c0e5903a4943f...</td>\n",
       "      <td>9b2d5b4678781e53038e91ea5324530a03f27dc1d0e5f6...</td>\n",
       "    </tr>\n",
       "    <tr>\n",
       "      <th>271112</th>\n",
       "      <td>44d7b5e39a5d33d26384291d7fdce023a7c1bf20a7f608...</td>\n",
       "      <td>70ea274f0804282e31a47d5370adf85ae7bc9a5f9b78a0...</td>\n",
       "      <td>2f748d07ca91a5a1a6871b8f05cdd4d69f194615a82ca5...</td>\n",
       "      <td>08f271887ce94707da822d5263bae19d5519cb3614e0da...</td>\n",
       "      <td>3d0c8283603d59c94f8a0dc23a50483c8dd132521e28c9...</td>\n",
       "      <td>f317728dd5d290997542797667e7f312c41fb543455710...</td>\n",
       "      <td>4bf4f525504cc0a2c514f8cfd5d73ea65c50af4bbcd047...</td>\n",
       "      <td>7f69649ad70496d441a62f0f196b1c3283572f2c64f7b1...</td>\n",
       "      <td>df004f89b82e934f4406166633eb25766799d21bf5cbfa...</td>\n",
       "      <td>0c04128e00acc6c56207055a5ba8c89a1c250ec189c51f...</td>\n",
       "      <td>96da37e95d5cc34fe3bef6c89428df859b8a217630d0c6...</td>\n",
       "      <td>1b17869e03ecc1b0f86b003c199606eb68eaceb18927e3...</td>\n",
       "      <td>1f5b790808ef1bd3edac6ea19aaab8a19e45a2fd94ee71...</td>\n",
       "      <td>770029833da6b8b4fde5ea070f7d3bece8094741bd8678...</td>\n",
       "      <td>bec87ece30505cbf0506eefb014f81ace06d33e6294bcd...</td>\n",
       "      <td>9b2d5b4678781e53038e91ea5324530a03f27dc1d0e5f6...</td>\n",
       "    </tr>\n",
       "    <tr>\n",
       "      <th>271113</th>\n",
       "      <td>44d7b5e39a5d33d26384291d7fdce023a7c1bf20a7f608...</td>\n",
       "      <td>70ea274f0804282e31a47d5370adf85ae7bc9a5f9b78a0...</td>\n",
       "      <td>2f748d07ca91a5a1a6871b8f05cdd4d69f194615a82ca5...</td>\n",
       "      <td>08f271887ce94707da822d5263bae19d5519cb3614e0da...</td>\n",
       "      <td>3d0c8283603d59c94f8a0dc23a50483c8dd132521e28c9...</td>\n",
       "      <td>f317728dd5d290997542797667e7f312c41fb543455710...</td>\n",
       "      <td>4bf4f525504cc0a2c514f8cfd5d73ea65c50af4bbcd047...</td>\n",
       "      <td>7f69649ad70496d441a62f0f196b1c3283572f2c64f7b1...</td>\n",
       "      <td>df004f89b82e934f4406166633eb25766799d21bf5cbfa...</td>\n",
       "      <td>0c04128e00acc6c56207055a5ba8c89a1c250ec189c51f...</td>\n",
       "      <td>96da37e95d5cc34fe3bef6c89428df859b8a217630d0c6...</td>\n",
       "      <td>1b17869e03ecc1b0f86b003c199606eb68eaceb18927e3...</td>\n",
       "      <td>1f5b790808ef1bd3edac6ea19aaab8a19e45a2fd94ee71...</td>\n",
       "      <td>770029833da6b8b4fde5ea070f7d3bece8094741bd8678...</td>\n",
       "      <td>4fc6f8fa6074c77f150c69f97dddf7afd671cc36634f26...</td>\n",
       "      <td>9b2d5b4678781e53038e91ea5324530a03f27dc1d0e5f6...</td>\n",
       "    </tr>\n",
       "    <tr>\n",
       "      <th>271114</th>\n",
       "      <td>2b6356adbf3d5fa7844394035afdbc664dd1d7e37f4618...</td>\n",
       "      <td>cf2cf110af7a9490dfc31266cd48d6d6a6520ce3a9dcc2...</td>\n",
       "      <td>e7fd567d163933f9b76a0094f18afbf8e8291b179c5487...</td>\n",
       "      <td>08f271887ce94707da822d5263bae19d5519cb3614e0da...</td>\n",
       "      <td>26c9a96ce053a14dd88a71a4830c9cbed7e1fed7e3f3f8...</td>\n",
       "      <td>0730ee8b219beb819f26af85b440a976ef77bbe517be3f...</td>\n",
       "      <td>58928b600aad6f6af541603fe80959503f3fd90baacb97...</td>\n",
       "      <td>7f69649ad70496d441a62f0f196b1c3283572f2c64f7b1...</td>\n",
       "      <td>df004f89b82e934f4406166633eb25766799d21bf5cbfa...</td>\n",
       "      <td>a97f57ce1b091b1144cf69cedaa398e9506f9aa50e9980...</td>\n",
       "      <td>d54123de468bd42ea00dafbd777f85fe5fa1ff6404d983...</td>\n",
       "      <td>1b17869e03ecc1b0f86b003c199606eb68eaceb18927e3...</td>\n",
       "      <td>be46d9345119f37ca54b6f257ba54217b9d7c24bfe6aa7...</td>\n",
       "      <td>6814a354b0e89977947cef6137ff8cc4497517a3c99698...</td>\n",
       "      <td>d5cf30cc277355b7c3bc1e4aed1eb71f8516d73f048075...</td>\n",
       "      <td>9b2d5b4678781e53038e91ea5324530a03f27dc1d0e5f6...</td>\n",
       "    </tr>\n",
       "    <tr>\n",
       "      <th>271115</th>\n",
       "      <td>2b6356adbf3d5fa7844394035afdbc664dd1d7e37f4618...</td>\n",
       "      <td>cf2cf110af7a9490dfc31266cd48d6d6a6520ce3a9dcc2...</td>\n",
       "      <td>e7fd567d163933f9b76a0094f18afbf8e8291b179c5487...</td>\n",
       "      <td>08f271887ce94707da822d5263bae19d5519cb3614e0da...</td>\n",
       "      <td>1436c71c3bc18cb9ff43acdb59f3c6de30a069675bab73...</td>\n",
       "      <td>0730ee8b219beb819f26af85b440a976ef77bbe517be3f...</td>\n",
       "      <td>58928b600aad6f6af541603fe80959503f3fd90baacb97...</td>\n",
       "      <td>7f69649ad70496d441a62f0f196b1c3283572f2c64f7b1...</td>\n",
       "      <td>df004f89b82e934f4406166633eb25766799d21bf5cbfa...</td>\n",
       "      <td>4271889ce0a9a3ed86fdc2ae699f7c142d562e03ed9931...</td>\n",
       "      <td>6c94e35ccc352d4e9ef0b99562cff995a5741ce8de8ad1...</td>\n",
       "      <td>1b17869e03ecc1b0f86b003c199606eb68eaceb18927e3...</td>\n",
       "      <td>52a770cbe561bdc0d21fd70e528f167fd11869bce7c179...</td>\n",
       "      <td>6814a354b0e89977947cef6137ff8cc4497517a3c99698...</td>\n",
       "      <td>d5cf30cc277355b7c3bc1e4aed1eb71f8516d73f048075...</td>\n",
       "      <td>9b2d5b4678781e53038e91ea5324530a03f27dc1d0e5f6...</td>\n",
       "    </tr>\n",
       "  </tbody>\n",
       "</table>\n",
       "<p>271116 rows × 16 columns</p>\n",
       "</div>"
      ],
      "text/plain": [
       "                                                       ID  \\\n",
       "0       6b86b273ff34fce19d6b804eff5a3f5747ada4eaa22f1d...   \n",
       "1       d4735e3a265e16eee03f59718b9b5d03019c07d8b6c51f...   \n",
       "2       4e07408562bedb8b60ce05c1decfe3ad16b72230967de0...   \n",
       "3       4b227777d4dd1fc61c6f884f48641d02b4d121d3fd328c...   \n",
       "4       ef2d127de37b942baad06145e54b0c619a1f22327b2ebb...   \n",
       "...                                                   ...   \n",
       "271111  2d1471883588e887533699ba812e58040232f3889b8315...   \n",
       "271112  44d7b5e39a5d33d26384291d7fdce023a7c1bf20a7f608...   \n",
       "271113  44d7b5e39a5d33d26384291d7fdce023a7c1bf20a7f608...   \n",
       "271114  2b6356adbf3d5fa7844394035afdbc664dd1d7e37f4618...   \n",
       "271115  2b6356adbf3d5fa7844394035afdbc664dd1d7e37f4618...   \n",
       "\n",
       "                                             Hashed names  \\\n",
       "0       1835f69bd6b0b9e81fb90daa6ba36bc6a263e8b6852ca7...   \n",
       "1       36b954be919c253ff4fe04cbbb88521be1c8ccb8db6f9c...   \n",
       "2       6610aa9ce7fef46a06484058428e89fe73976bfe079359...   \n",
       "3       7ceee5184ccd7b08b756b8f578d4d08cdc7e833e13a0d9...   \n",
       "4       d5521f815bc50199449f6f50ff7adffa2213871b76696c...   \n",
       "...                                                   ...   \n",
       "271111  1c47d2b9a12b1b486f08d4796e0b466d945edb44683919...   \n",
       "271112  70ea274f0804282e31a47d5370adf85ae7bc9a5f9b78a0...   \n",
       "271113  70ea274f0804282e31a47d5370adf85ae7bc9a5f9b78a0...   \n",
       "271114  cf2cf110af7a9490dfc31266cd48d6d6a6520ce3a9dcc2...   \n",
       "271115  cf2cf110af7a9490dfc31266cd48d6d6a6520ce3a9dcc2...   \n",
       "\n",
       "                                                     Name  \\\n",
       "0       3a4eef48434c66b3f14ab0221f6762d0ef7c6135ab2790...   \n",
       "1       a6430cc6630934275dc6283f7e97e9625e6587cdddec7a...   \n",
       "2       9c198b205332c2c8e1542e0f9534b9e270780a41d978ec...   \n",
       "3       0a477bb1c5ad39716f9c775e54d18d16aa8b37ada55548...   \n",
       "4       5b7be356aa28178096dc6747f0b8e4e393eaceb5f95310...   \n",
       "...                                                   ...   \n",
       "271111  07f491e055f56a7a7be133c9cf6563c253d3aa0d137630...   \n",
       "271112  2f748d07ca91a5a1a6871b8f05cdd4d69f194615a82ca5...   \n",
       "271113  2f748d07ca91a5a1a6871b8f05cdd4d69f194615a82ca5...   \n",
       "271114  e7fd567d163933f9b76a0094f18afbf8e8291b179c5487...   \n",
       "271115  e7fd567d163933f9b76a0094f18afbf8e8291b179c5487...   \n",
       "\n",
       "                                                      Sex  \\\n",
       "0       08f271887ce94707da822d5263bae19d5519cb3614e0da...   \n",
       "1       08f271887ce94707da822d5263bae19d5519cb3614e0da...   \n",
       "2       08f271887ce94707da822d5263bae19d5519cb3614e0da...   \n",
       "3       08f271887ce94707da822d5263bae19d5519cb3614e0da...   \n",
       "4       f67ab10ad4e4c53121b6a5fe4da9c10ddee905b978d378...   \n",
       "...                                                   ...   \n",
       "271111  08f271887ce94707da822d5263bae19d5519cb3614e0da...   \n",
       "271112  08f271887ce94707da822d5263bae19d5519cb3614e0da...   \n",
       "271113  08f271887ce94707da822d5263bae19d5519cb3614e0da...   \n",
       "271114  08f271887ce94707da822d5263bae19d5519cb3614e0da...   \n",
       "271115  08f271887ce94707da822d5263bae19d5519cb3614e0da...   \n",
       "\n",
       "                                                      Age  \\\n",
       "0       dce81cca484053ef71096b308cb234b77b4ff19b507b7e...   \n",
       "1       c22cd1ea7268eed0a17f08b05559b6f7939040cf707d5a...   \n",
       "2       dce81cca484053ef71096b308cb234b77b4ff19b507b7e...   \n",
       "3       1436c71c3bc18cb9ff43acdb59f3c6de30a069675bab73...   \n",
       "4       e4658389f3e9af055d9d349c5e68122e26dbce056fe0da...   \n",
       "...                                                   ...   \n",
       "271111  4918d4e05218ac860241eaa4933422bbcda72bd6dde1b9...   \n",
       "271112  3d0c8283603d59c94f8a0dc23a50483c8dd132521e28c9...   \n",
       "271113  3d0c8283603d59c94f8a0dc23a50483c8dd132521e28c9...   \n",
       "271114  26c9a96ce053a14dd88a71a4830c9cbed7e1fed7e3f3f8...   \n",
       "271115  1436c71c3bc18cb9ff43acdb59f3c6de30a069675bab73...   \n",
       "\n",
       "                                                   Height  \\\n",
       "0       9598d1edef9a37c9d4a9ff783906af30933a1bdac58ec5...   \n",
       "1       fd91ce9f7f9b8567eb93faebc7c89f33306d3600eb3d1d...   \n",
       "2       9b2d5b4678781e53038e91ea5324530a03f27dc1d0e5f6...   \n",
       "3       9b2d5b4678781e53038e91ea5324530a03f27dc1d0e5f6...   \n",
       "4       0730ee8b219beb819f26af85b440a976ef77bbe517be3f...   \n",
       "...                                                   ...   \n",
       "271111  b1597a9b7e2ccaf0ebe2ac64d8ca5f9b55900c0570a581...   \n",
       "271112  f317728dd5d290997542797667e7f312c41fb543455710...   \n",
       "271113  f317728dd5d290997542797667e7f312c41fb543455710...   \n",
       "271114  0730ee8b219beb819f26af85b440a976ef77bbe517be3f...   \n",
       "271115  0730ee8b219beb819f26af85b440a976ef77bbe517be3f...   \n",
       "\n",
       "                                                   Weight  \\\n",
       "0       5afc581cc9ea399a2b1fa46aef3df4bea99fdbcf962851...   \n",
       "1       db58b6c40698d7371bbcff35d085e1bac5fa439d0de31e...   \n",
       "2       9b2d5b4678781e53038e91ea5324530a03f27dc1d0e5f6...   \n",
       "3       9b2d5b4678781e53038e91ea5324530a03f27dc1d0e5f6...   \n",
       "4       3311663049fc19e9f878bd6e05ed36e8efcb8f58b802be...   \n",
       "...                                                   ...   \n",
       "271111  b35c70042fb78628e2d0e90b95b9179cb1294ca5c5dbc6...   \n",
       "271112  4bf4f525504cc0a2c514f8cfd5d73ea65c50af4bbcd047...   \n",
       "271113  4bf4f525504cc0a2c514f8cfd5d73ea65c50af4bbcd047...   \n",
       "271114  58928b600aad6f6af541603fe80959503f3fd90baacb97...   \n",
       "271115  58928b600aad6f6af541603fe80959503f3fd90baacb97...   \n",
       "\n",
       "                                                     Team  \\\n",
       "0       10436829032f361a3de50048de41755140e581467bc189...   \n",
       "1       10436829032f361a3de50048de41755140e581467bc189...   \n",
       "2       c527097577600a6726de99bd6f555fbfaf214da9b7d127...   \n",
       "3       3defe2605f984f45198db4a5e18140314cbfa4e8916db0...   \n",
       "4       3a386c13d283dc2ebbe2aeffc1ab3930d086b28956930d...   \n",
       "...                                                   ...   \n",
       "271111  d0f935dbb98bb1cd41a1e80374140d5968a43266c9adc8...   \n",
       "271112  7f69649ad70496d441a62f0f196b1c3283572f2c64f7b1...   \n",
       "271113  7f69649ad70496d441a62f0f196b1c3283572f2c64f7b1...   \n",
       "271114  7f69649ad70496d441a62f0f196b1c3283572f2c64f7b1...   \n",
       "271115  7f69649ad70496d441a62f0f196b1c3283572f2c64f7b1...   \n",
       "\n",
       "                                                      NOC  \\\n",
       "0       bbfd32d8e72a9062a10c25a239a8694c130f6d23af05b1...   \n",
       "1       bbfd32d8e72a9062a10c25a239a8694c130f6d23af05b1...   \n",
       "2       2fcc32efa12bc6f248a98584b1e110f682b56f0b801547...   \n",
       "3       2fcc32efa12bc6f248a98584b1e110f682b56f0b801547...   \n",
       "4       9ea4e3b85e324650a1ab403ad96abe96205360a1e84550...   \n",
       "...                                                   ...   \n",
       "271111  df004f89b82e934f4406166633eb25766799d21bf5cbfa...   \n",
       "271112  df004f89b82e934f4406166633eb25766799d21bf5cbfa...   \n",
       "271113  df004f89b82e934f4406166633eb25766799d21bf5cbfa...   \n",
       "271114  df004f89b82e934f4406166633eb25766799d21bf5cbfa...   \n",
       "271115  df004f89b82e934f4406166633eb25766799d21bf5cbfa...   \n",
       "\n",
       "                                                    Games  \\\n",
       "0       935a0140dd9743d6057986dc936730481713dcffd3b9d3...   \n",
       "1       3457ff59a3401c08d7294566ba0516e77f1c500a263b7e...   \n",
       "2       a7e84e307ea4bc59d1498302a3a14baf6e42520726cd3a...   \n",
       "3       04e7a6dd7d2442eda831918d527e98fe01fa5ba17248c3...   \n",
       "4       6ea41bf6cc85d4736c0b5e0ab5d43c73d2e636d45c1ba4...   \n",
       "...                                                   ...   \n",
       "271111  c44e029078f95323e701a86fceef2635bb8de0957f79ac...   \n",
       "271112  0c04128e00acc6c56207055a5ba8c89a1c250ec189c51f...   \n",
       "271113  0c04128e00acc6c56207055a5ba8c89a1c250ec189c51f...   \n",
       "271114  a97f57ce1b091b1144cf69cedaa398e9506f9aa50e9980...   \n",
       "271115  4271889ce0a9a3ed86fdc2ae699f7c142d562e03ed9931...   \n",
       "\n",
       "                                                     Year  \\\n",
       "0       3f83e9ad5be63bd5bf2fd009fffe6b7dd4066243975bc9...   \n",
       "1       4b9a7f50c0bb198c6f5414c5a8459f5d216d34ab521ea9...   \n",
       "2       6b5f40c09215713a1fa83ea2de2adcae17e605b8958a2d...   \n",
       "3       e41d64db5703c6440b5c714d57251a845bc0bd241480b4...   \n",
       "4       8266498d969081c29737b8daeb5b51d60e56d008fff243...   \n",
       "...                                                   ...   \n",
       "271111  4c3aada37cf7fd3819b2da502a15f78f7ce5a2ce6d584b...   \n",
       "271112  96da37e95d5cc34fe3bef6c89428df859b8a217630d0c6...   \n",
       "271113  96da37e95d5cc34fe3bef6c89428df859b8a217630d0c6...   \n",
       "271114  d54123de468bd42ea00dafbd777f85fe5fa1ff6404d983...   \n",
       "271115  6c94e35ccc352d4e9ef0b99562cff995a5741ce8de8ad1...   \n",
       "\n",
       "                                                   Season  \\\n",
       "0       c0de243c407c0e98ed0364e1d0c636d542318867862aac...   \n",
       "1       c0de243c407c0e98ed0364e1d0c636d542318867862aac...   \n",
       "2       c0de243c407c0e98ed0364e1d0c636d542318867862aac...   \n",
       "3       c0de243c407c0e98ed0364e1d0c636d542318867862aac...   \n",
       "4       1b17869e03ecc1b0f86b003c199606eb68eaceb18927e3...   \n",
       "...                                                   ...   \n",
       "271111  1b17869e03ecc1b0f86b003c199606eb68eaceb18927e3...   \n",
       "271112  1b17869e03ecc1b0f86b003c199606eb68eaceb18927e3...   \n",
       "271113  1b17869e03ecc1b0f86b003c199606eb68eaceb18927e3...   \n",
       "271114  1b17869e03ecc1b0f86b003c199606eb68eaceb18927e3...   \n",
       "271115  1b17869e03ecc1b0f86b003c199606eb68eaceb18927e3...   \n",
       "\n",
       "                                                     City  \\\n",
       "0       062dda15f8838576019a50b01bdf29cc5046008bbfcfaa...   \n",
       "1       ecc0e7dc084f141b29479058967d0bc07dee25d9690a98...   \n",
       "2       d76bbf28ac60c2c8840295033f991a8085745713d9a910...   \n",
       "3       5dd272b4f316b776a7b8e3d0894b37e1e42be3d5d3b204...   \n",
       "4       4dcbd74fcbd08192a287425acff97cfc3c8cf3dd46486d...   \n",
       "...                                                   ...   \n",
       "271111  89e3910dd669d542e15b3fd066a896e38a4fd9edafb734...   \n",
       "271112  1f5b790808ef1bd3edac6ea19aaab8a19e45a2fd94ee71...   \n",
       "271113  1f5b790808ef1bd3edac6ea19aaab8a19e45a2fd94ee71...   \n",
       "271114  be46d9345119f37ca54b6f257ba54217b9d7c24bfe6aa7...   \n",
       "271115  52a770cbe561bdc0d21fd70e528f167fd11869bce7c179...   \n",
       "\n",
       "                                                    Sport  \\\n",
       "0       3530d1806b6a3b4f1ea1084024cf3cb58b51a6a5b2fddf...   \n",
       "1       1ff4e85c7aaecae083a23f64600497d89a101e5c1eb455...   \n",
       "2       cbe1b7d7f446e134f78cefe973dfbbde9969b81e541853...   \n",
       "3       610cb9b21b317ee940e0c677a4dcbe43d230291fbe6da1...   \n",
       "4       b208000794758e57c41ba9d6a3a392361ece503e67cd25...   \n",
       "...                                                   ...   \n",
       "271111  19287be4f13291bd47806b6d3923aa00628afb8a7f463a...   \n",
       "271112  770029833da6b8b4fde5ea070f7d3bece8094741bd8678...   \n",
       "271113  770029833da6b8b4fde5ea070f7d3bece8094741bd8678...   \n",
       "271114  6814a354b0e89977947cef6137ff8cc4497517a3c99698...   \n",
       "271115  6814a354b0e89977947cef6137ff8cc4497517a3c99698...   \n",
       "\n",
       "                                                    Event  \\\n",
       "0       ab317391a79a5fc5b796c101f6e2799d58747323fe7f0d...   \n",
       "1       8f267d45eecb8270e5eb9c39e6fc78e3a140e15c9558f6...   \n",
       "2       1d0ab0043e4c9abac287ecc5409de6e4b6e255791a8091...   \n",
       "3       946a52420808bc02704adb04879913bcf20ee09f2616e4...   \n",
       "4       b71da9b86489b5874eb4f78f3bb6c23731e715506f4673...   \n",
       "...                                                   ...   \n",
       "271111  5ec6d7b5174bf199f60e2828bef296fa1c0e5903a4943f...   \n",
       "271112  bec87ece30505cbf0506eefb014f81ace06d33e6294bcd...   \n",
       "271113  4fc6f8fa6074c77f150c69f97dddf7afd671cc36634f26...   \n",
       "271114  d5cf30cc277355b7c3bc1e4aed1eb71f8516d73f048075...   \n",
       "271115  d5cf30cc277355b7c3bc1e4aed1eb71f8516d73f048075...   \n",
       "\n",
       "                                                    Medal  \n",
       "0       9b2d5b4678781e53038e91ea5324530a03f27dc1d0e5f6...  \n",
       "1       9b2d5b4678781e53038e91ea5324530a03f27dc1d0e5f6...  \n",
       "2       9b2d5b4678781e53038e91ea5324530a03f27dc1d0e5f6...  \n",
       "3       6249df4367d0a2e088c8eb1117ef59430f0d7dad4bf0fc...  \n",
       "4       9b2d5b4678781e53038e91ea5324530a03f27dc1d0e5f6...  \n",
       "...                                                   ...  \n",
       "271111  9b2d5b4678781e53038e91ea5324530a03f27dc1d0e5f6...  \n",
       "271112  9b2d5b4678781e53038e91ea5324530a03f27dc1d0e5f6...  \n",
       "271113  9b2d5b4678781e53038e91ea5324530a03f27dc1d0e5f6...  \n",
       "271114  9b2d5b4678781e53038e91ea5324530a03f27dc1d0e5f6...  \n",
       "271115  9b2d5b4678781e53038e91ea5324530a03f27dc1d0e5f6...  \n",
       "\n",
       "[271116 rows x 16 columns]"
      ]
     },
     "execution_count": 34,
     "metadata": {},
     "output_type": "execute_result"
    }
   ],
   "source": [
    "str_df = df.applymap(str)\n",
    "str_df.applymap(lambda x: hashlib.sha256(x.encode()).hexdigest())"
   ]
  },
  {
   "cell_type": "code",
   "execution_count": null,
   "metadata": {},
   "outputs": [],
   "source": []
  }
 ],
 "metadata": {
  "kernelspec": {
   "display_name": "Python 3.9.6 ('Databehandling-AI22-pxcu1tX3')",
   "language": "python",
   "name": "python3"
  },
  "language_info": {
   "codemirror_mode": {
    "name": "ipython",
    "version": 3
   },
   "file_extension": ".py",
   "mimetype": "text/x-python",
   "name": "python",
   "nbconvert_exporter": "python",
   "pygments_lexer": "ipython3",
   "version": "3.9.6"
  },
  "orig_nbformat": 4,
  "vscode": {
   "interpreter": {
    "hash": "64634a80f0d8519fa08bfeb2f6e9943a7642361918362ea27bcfec33791ccbfe"
   }
  }
 },
 "nbformat": 4,
 "nbformat_minor": 2
}
